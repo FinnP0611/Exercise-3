{
 "cells": [
  {
   "cell_type": "markdown",
   "metadata": {
    "nbgrader": {
     "grade": false,
     "grade_id": "cell-0f5198aff98ef512",
     "locked": true,
     "schema_version": 1,
     "solution": false
    }
   },
   "source": [
    "## Problem 4 - Nested `for` loops (*optional, does not affect grading*)\n",
    "\n",
    "**Warning:** This is a difficult problem. Try to do this task only if you have confidence in programming, and you are up for a little challenge. :) \n",
    "\n",
    "In addition to having single `for` loops that iterate across some variable range, it is possible to *nest* `for` loops within one another.\n",
    "\n",
    "Consider the example below:\n",
    "\n",
    "```python\n",
    ">>> for char in 'dog':\n",
    "...     for char2 in 'cat':\n",
    "...         print (char, char2)\n",
    "    d c\n",
    "    d a\n",
    "    d t\n",
    "    o c\n",
    "    o a\n",
    "    o t\n",
    "    g c\n",
    "    g a\n",
    "    g t\n",
    "```\n",
    "\n",
    "Here, you can see that in the first pass through the first `for` loop, the value of `char` is `d`.\n",
    "Entering the inner (or nested) loop, `char2` is set to `c`.\n",
    "After this, the output is written to the screen and since there are more letters to loop over in the inner `for` loop, the value of `char2` will be updated upon the next pass.\n",
    "The second time through the inner loop, `char2` is set to `a` while `char` remains `d`.\n",
    "Like this, the inner loop will run through all of the letters in `cat` for each time that `char` is updated in the outer loop.\n",
    "It doesn't take too much imagination to figure out this is a very useful concept.\n",
    "\n",
    "For this problem you should do following:\n",
    "\n",
    "1. Create a variable `star` with text `\"*\"` and an empty string variable `text`. Recall, you can created empty string variables by assigning `\"\"` as their value.\n",
    "2. Use nested `for` loops and the variables above to produce the text formation below when `print(text)` is run at the end of your script.\n",
    "\n",
    "    ```\n",
    "    *******\n",
    "    *******\n",
    "    *******\n",
    "    ```\n",
    "3. Create a variable `line` with text `\"-\"` and an empty string variable `flag`.\n",
    "4. Use nested `for` loops and the variables above to produce the text formation below when `print(flag)` is run at the end of your script. **Note**: You will need to use conditional statements to produce the desired output.\n",
    "\n",
    "    ```\n",
    "    *******------------\n",
    "    *******------------\n",
    "    *******------------\n",
    "    -------------------\n",
    "    -------------------\n",
    "    ```\n"
   ]
  },
  {
   "cell_type": "markdown",
   "metadata": {
    "nbgrader": {
     "grade": false,
     "grade_id": "cell-4e5ab82001ecb87e",
     "locked": true,
     "schema_version": 1,
     "solution": false
    }
   },
   "source": [
    "### Part 1\n",
    "\n",
    "- Your code for producing the asterisk square:"
   ]
  },
  {
   "cell_type": "code",
   "execution_count": null,
   "metadata": {
    "nbgrader": {
     "grade": false,
     "grade_id": "asterix-square",
     "locked": false,
     "schema_version": 1,
     "solution": true
    }
   },
   "outputs": [],
   "source": [
    "### BEGIN SOLUTION\n",
    "star = '*'\n",
    "text = \"\"\n",
    "\n",
    "for i in range(3):\n",
    "    for j in range(7):\n",
    "        text+= star\n",
    "    text += '\\n'\n",
    "\n",
    "### END SOLUTION\n",
    "text"
   ]
  },
  {
   "cell_type": "code",
   "execution_count": null,
   "metadata": {
    "nbgrader": {
     "grade": true,
     "grade_id": "asterix-square-test",
     "locked": true,
     "points": 0,
     "schema_version": 1,
     "solution": false
    }
   },
   "outputs": [],
   "source": [
    "print(text)\n",
    "### BEGIN HIDDEN TESTS\n",
    "from nose.tools import assert_equal\n",
    "correct_shape = '*******\\n*******\\n*******\\n'\n",
    "assert_equal(text, correct_shape)\n",
    "### END HIDDEN TESTS"
   ]
  },
  {
   "cell_type": "markdown",
   "metadata": {
    "nbgrader": {
     "grade": false,
     "grade_id": "cell-612d3be673da10cc",
     "locked": true,
     "schema_version": 1,
     "solution": false
    }
   },
   "source": [
    "### Part 2\n",
    "\n",
    "- Your code for producing the flag:"
   ]
  },
  {
   "cell_type": "code",
   "execution_count": null,
   "metadata": {
    "nbgrader": {
     "grade": false,
     "grade_id": "flag",
     "locked": false,
     "schema_version": 1,
     "solution": true
    }
   },
   "outputs": [],
   "source": [
    "### BEGIN SOLUTION\n",
    "star = '*'\n",
    "flag = \"\"\n",
    "line = '-'\n",
    "\n",
    "for i in range(5):\n",
    "    # For the first three lines add asterix and lines\n",
    "    if i < 3:\n",
    "        for j in range(7):\n",
    "            flag+= star\n",
    "            \n",
    "        for k in range(12):\n",
    "            flag+=line\n",
    "    # For the last two lines add only lines\n",
    "    else:\n",
    "        for k in range(19):\n",
    "            flag+=line\n",
    "    flag += '\\n'\n",
    "### END SOLUTION"
   ]
  },
  {
   "cell_type": "code",
   "execution_count": null,
   "metadata": {
    "nbgrader": {
     "grade": true,
     "grade_id": "flag_test",
     "locked": true,
     "points": 0,
     "schema_version": 1,
     "solution": false
    }
   },
   "outputs": [],
   "source": [
    "print(flag)\n",
    "### BEGIN HIDDEN TESTS\n",
    "from nose.tools import assert_equal\n",
    "correct_shape = '*******------------\\n*******------------\\n*******------------\\n-------------------\\n-------------------\\n'\n",
    "assert_equal(flag, correct_shape)\n",
    "### END HIDDEN TESTS"
   ]
  },
  {
   "cell_type": "markdown",
   "metadata": {
    "nbgrader": {
     "grade": false,
     "grade_id": "cell-4aa072eec21ca596",
     "locked": true,
     "schema_version": 1,
     "solution": false
    }
   },
   "source": [
    "### All done!\n",
    "\n",
    "Congrats, if you are here, you have finished all assignments for week 3, even the extra one! Bad-ass. &#128526;"
   ]
  }
 ],
 "metadata": {
  "anaconda-cloud": {},
  "celltoolbar": "Create Assignment",
  "kernelspec": {
   "display_name": "Python 3",
   "language": "python",
   "name": "python3"
  },
  "language_info": {
   "codemirror_mode": {
    "name": "ipython",
    "version": 3
   },
   "file_extension": ".py",
   "mimetype": "text/x-python",
   "name": "python",
   "nbconvert_exporter": "python",
   "pygments_lexer": "ipython3",
   "version": "3.7.3"
  }
 },
 "nbformat": 4,
 "nbformat_minor": 2
}
