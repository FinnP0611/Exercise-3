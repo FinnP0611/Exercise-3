{
 "cells": [
  {
   "cell_type": "markdown",
   "metadata": {
    "nbgrader": {
     "grade": false,
     "grade_id": "cell-58d7814a0b15716a",
     "locked": true,
     "schema_version": 1,
     "solution": false
    }
   },
   "source": [
    "# Exercise 3\n",
    "\n",
    "The exercise for this week is meant to help you to understand `for` loops and conditional statements in Python.\n",
    "Below you have a series of problems in which you are asked to edit the notebook files and write the code necessary to produce the desired results.\n",
    "\n",
    "After making your changes to the Notebook, you will need to upload it to GitHub.\n",
    "\n",
    "\n",
    "- **Exercise 3 is due by the start of lecture on 26.9**.\n",
    "\n",
    "- Don't forget to check out the [hints for this week's exercise](https://geo-python.github.io/2018/lessons/L3/exercise-3-hints.html) if you're having trouble.\n",
    "\n",
    "- Scores on this exercise are out of **20 points**.\n",
    "\n",
    "## Before starting\n",
    "\n",
    "Test that your Python version is up-to-date. Our automatic grading system requires to have IPython version which is higher than 3. Test your version by running following cell (shift + Enter):"
   ]
  },
  {
   "cell_type": "code",
   "execution_count": null,
   "metadata": {
    "collapsed": false
   },
   "outputs": [],
   "source": [
    "import IPython\n",
    "assert IPython.version_info[0] >= 3, \"Your version of IPython is too old, please update it.\"\n",
    "print(\"Your system is okay, you can continue! :) \")"
   ]
  },
  {
   "cell_type": "markdown",
   "metadata": {
    "nbgrader": {
     "grade": false,
     "grade_id": "cell-f95482b361730f0e",
     "locked": true,
     "schema_version": 1,
     "solution": false
    }
   },
   "source": [
    "## Problem 1 - Batch processing data files with a `for` loop (**4 Points**)\n",
    "\n",
    "This problem is meant to simulate a common problem dealing with data files: batch processing.\n",
    "\n",
    "Batch processing involves using scripts to process many data files, and one common task is generating a list of filenames that will be processed, or saved to disk.\n",
    "\n",
    "For this problem you will need to modify the code blocks below and add codes to produce the desired outcomes. \n",
    "\n",
    "**Notice**: follow closely the instructions, e.g. using **exactly** the same variable names as mentioned in the instructions because your answers will be automatically graded, and the tests that grade your answers rely on following the same formatting as in the instructions. \n"
   ]
  },
  {
   "cell_type": "markdown",
   "metadata": {
    "nbgrader": {
     "grade": false,
     "grade_id": "cell-c142b4a433bf60db",
     "locked": true,
     "schema_version": 1,
     "solution": false
    }
   },
   "source": [
    "1: Create a new variable called `basename` that contains text `\"Station\"`."
   ]
  },
  {
   "cell_type": "code",
   "execution_count": null,
   "metadata": {
    "collapsed": true,
    "nbgrader": {
     "grade": false,
     "grade_id": "station-name",
     "locked": false,
     "schema_version": 1,
     "solution": true
    }
   },
   "outputs": [],
   "source": [
    "### BEGIN SOLUTION\n",
    "basename = \"Station\"\n",
    "### END SOLUTION"
   ]
  },
  {
   "cell_type": "code",
   "execution_count": null,
   "metadata": {
    "collapsed": false,
    "nbgrader": {
     "grade": true,
     "grade_id": "station-name-correct",
     "locked": true,
     "points": 0.25,
     "schema_version": 1,
     "solution": false
    }
   },
   "outputs": [],
   "source": [
    "# Test print of the variable\n",
    "print(basename)\n",
    "\n",
    "### BEGIN HIDDEN TESTS\n",
    "from nose.tools import ok_, assert_equal\n",
    "# Validate variable name\n",
    "ok_('basename' in locals())\n",
    "\n",
    "# Validate value\n",
    "assert_equal(basename, 'Station')\n",
    "### END HIDDEN TESTS"
   ]
  },
  {
   "cell_type": "markdown",
   "metadata": {
    "nbgrader": {
     "grade": false,
     "grade_id": "cell-9331cc8c826bda6f",
     "locked": true,
     "schema_version": 1,
     "solution": false
    }
   },
   "source": [
    "2: Create a new variable `filenames` that is an empty list."
   ]
  },
  {
   "cell_type": "code",
   "execution_count": null,
   "metadata": {
    "collapsed": true,
    "nbgrader": {
     "grade": false,
     "grade_id": "empty-filenames-list",
     "locked": false,
     "schema_version": 1,
     "solution": true
    }
   },
   "outputs": [],
   "source": [
    "### BEGIN SOLUTION\n",
    "filenames = []\n",
    "### END SOLUTION"
   ]
  },
  {
   "cell_type": "code",
   "execution_count": null,
   "metadata": {
    "collapsed": false,
    "nbgrader": {
     "grade": true,
     "grade_id": "empty-filenames-list-correct",
     "locked": true,
     "points": 0.25,
     "schema_version": 1,
     "solution": false
    }
   },
   "outputs": [],
   "source": [
    "# Test print of the variable\n",
    "print(filenames)\n",
    "\n",
    "### BEGIN HIDDEN TESTS\n",
    "\n",
    "from nose.tools import ok_\n",
    "ok_('filenames' in locals())\n",
    "ok_(isinstance(filenames, list))\n",
    "\n",
    "### END HIDDEN TESTS"
   ]
  },
  {
   "cell_type": "markdown",
   "metadata": {
    "nbgrader": {
     "grade": false,
     "grade_id": "cell-8d239a9e2ada7c4a",
     "locked": true,
     "schema_version": 1,
     "solution": false
    }
   },
   "source": [
    "3: Iterate over the number range 0-20 and\n",
    "  - Create a variable `station` that contains the 1) text from `basename` variable, 2) the number, and 3) the file extension `.txt`  \n",
    "  - Add the content of `station` to `filenames` list which should have following content in the end:\n",
    "\n",
    "      ```\n",
    "      ['Station_0.txt', 'Station_1.txt', 'Station_2.txt', 'Station_3.txt',\n",
    "       'Station_4.txt', 'Station_5.txt', 'Station_6.txt', 'Station_7.txt',\n",
    "       'Station_8.txt', 'Station_9.txt', 'Station_10.txt', 'Station_11.txt',\n",
    "       'Station_12.txt', 'Station_13.txt', 'Station_14.txt', 'Station_15.txt',\n",
    "       'Station_16.txt', 'Station_17.txt', 'Station_18.txt', 'Station_19.txt',\n",
    "       'Station_20.txt']\n",
    "      ```"
   ]
  },
  {
   "cell_type": "code",
   "execution_count": null,
   "metadata": {
    "collapsed": false,
    "nbgrader": {
     "grade": false,
     "grade_id": "populate-filenames-list",
     "locked": false,
     "schema_version": 1,
     "solution": true
    }
   },
   "outputs": [],
   "source": [
    "### BEGIN SOLUTION\n",
    "\n",
    "# Iterate from 0 up to 20\n",
    "for i in range(21):\n",
    "    # Create the name\n",
    "    station = basename + \"_\" + str(i) + \".txt\"\n",
    "    # Append to lis\n",
    "    filenames.append(station)\n",
    "\n",
    "# Print the contents\n",
    "print(filenames)\n",
    "    \n",
    "### END SOLUTION"
   ]
  },
  {
   "cell_type": "code",
   "execution_count": null,
   "metadata": {
    "collapsed": false,
    "nbgrader": {
     "grade": true,
     "grade_id": "populate-filenames-list-1",
     "locked": true,
     "points": 3.5,
     "schema_version": 1,
     "solution": false
    }
   },
   "outputs": [],
   "source": [
    "# Test print of the results\n",
    "print(filenames)\n",
    "\n",
    "### BEGIN HIDDEN TESTS\n",
    "from nose.tools import ok_, assert_equal\n",
    "\n",
    "# Check that 'station' variable exists\n",
    "ok_('station' in locals())\n",
    "\n",
    "# Check that the value of the last station is correct\n",
    "assert_equal(station.lower().strip(), \"station_20.txt\")\n",
    "\n",
    "# Check that there exists 21 values in the list\n",
    "ok_(len(filenames) == 21)\n",
    "\n",
    "correct_list = ['station_0.txt', 'station_1.txt', 'station_2.txt', 'station_3.txt', 'station_4.txt', 'station_5.txt', 'station_6.txt', 'station_7.txt', 'station_8.txt', 'station_9.txt', 'station_10.txt', 'station_11.txt', 'station_12.txt', 'station_13.txt', 'station_14.txt', 'station_15.txt', 'station_16.txt', 'station_17.txt', 'station_18.txt', 'station_19.txt', 'station_20.txt']\n",
    "\n",
    "# Check that the contents match (use lowercase to allow some variation in upper/lower case)\n",
    "for value in filenames:\n",
    "    ok_(value.strip().lower() in correct_list)\n",
    "\n",
    "### END HIDDEN TESTS"
   ]
  }
 ],
 "metadata": {
  "celltoolbar": "Create Assignment",
  "kernelspec": {
   "display_name": "Python 3",
   "language": "python",
   "name": "python3"
  },
  "language_info": {
   "codemirror_mode": {
    "name": "ipython",
    "version": 3
   },
   "file_extension": ".py",
   "mimetype": "text/x-python",
   "name": "python",
   "nbconvert_exporter": "python",
   "pygments_lexer": "ipython3",
   "version": "3.6.0"
  }
 },
 "nbformat": 4,
 "nbformat_minor": 2
}
