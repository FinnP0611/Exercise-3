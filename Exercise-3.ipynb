{
 "cells": [
  {
   "cell_type": "markdown",
   "metadata": {
    "nbgrader": {
     "grade": false,
     "grade_id": "cell-58d7814a0b15716a",
     "locked": true,
     "schema_version": 1,
     "solution": false
    }
   },
   "source": [
    "# Exercise 3\n",
    "\n",
    "The exercise for this week is meant to help you to understand `for` loops and conditional statements in Python.\n",
    "Below you have a series of problems in which you are asked to edit the notebook files and write the code necessary to produce the desired results.\n",
    "\n",
    "After making your changes to the Notebook, you will need to upload it to GitHub.\n",
    "\n",
    "\n",
    "- **Exercise 3 is due by the start of lecture on 26.9**.\n",
    "\n",
    "- Don't forget to check out the [hints for this week's exercise](https://geo-python.github.io/2018/lessons/L3/exercise-3-hints.html) if you're having trouble.\n",
    "\n",
    "- Scores on this exercise are out of **20 points**.\n",
    "\n",
    "## Before starting\n",
    "\n",
    "Test that your Python version is up-to-date. Our automatic grading system requires to have IPython version which is higher than 3. Test your version by running following cell (shift + Enter):"
   ]
  },
  {
   "cell_type": "code",
   "execution_count": null,
   "metadata": {
    "collapsed": false
   },
   "outputs": [],
   "source": [
    "import IPython\n",
    "assert IPython.version_info[0] >= 3, \"Your version of IPython is too old, please update it. Ask help, if you don't know how.\"\n",
    "print(\"Your system is okay, you can continue! :) \")"
   ]
  },
  {
   "cell_type": "markdown",
   "metadata": {
    "nbgrader": {
     "grade": false,
     "grade_id": "cell-f95482b361730f0e",
     "locked": true,
     "schema_version": 1,
     "solution": false
    }
   },
   "source": [
    "## Problem 1 - Batch processing data files with a `for` loop (**4 Points**)\n",
    "\n",
    "This problem is meant to simulate a common problem dealing with data files: batch processing.\n",
    "\n",
    "Batch processing involves using scripts to process many data files, and one common task is generating a list of filenames that will be processed, or saved to disk.\n",
    "\n",
    "For this problem you will need to modify the code blocks below and add codes to produce the desired outcomes. \n",
    "\n",
    "**Notice**: follow closely the instructions, e.g. using **exactly** the same variable names as mentioned in the instructions because your answers will be automatically graded, and the tests that grade your answers rely on following the same formatting as in the instructions. \n"
   ]
  },
  {
   "cell_type": "markdown",
   "metadata": {
    "nbgrader": {
     "grade": false,
     "grade_id": "cell-c142b4a433bf60db",
     "locked": true,
     "schema_version": 1,
     "solution": false
    }
   },
   "source": [
    "1: Create a new variable called `basename` that contains text `\"Station\"`."
   ]
  },
  {
   "cell_type": "code",
   "execution_count": null,
   "metadata": {
    "collapsed": true,
    "nbgrader": {
     "grade": false,
     "grade_id": "station-name",
     "locked": false,
     "schema_version": 1,
     "solution": true
    }
   },
   "outputs": [],
   "source": [
    "### BEGIN SOLUTION\n",
    "basename = \"Station\"\n",
    "### END SOLUTION"
   ]
  },
  {
   "cell_type": "code",
   "execution_count": null,
   "metadata": {
    "collapsed": false,
    "nbgrader": {
     "grade": true,
     "grade_id": "station-name-correct",
     "locked": true,
     "points": 0.25,
     "schema_version": 1,
     "solution": false
    }
   },
   "outputs": [],
   "source": [
    "# Test print of the variable\n",
    "print(basename)\n",
    "\n",
    "### BEGIN HIDDEN TESTS\n",
    "from nose.tools import ok_, assert_equal\n",
    "# Validate variable name\n",
    "ok_('basename' in locals())\n",
    "\n",
    "# Validate value\n",
    "assert_equal(basename, 'Station')\n",
    "### END HIDDEN TESTS"
   ]
  },
  {
   "cell_type": "markdown",
   "metadata": {
    "nbgrader": {
     "grade": false,
     "grade_id": "cell-9331cc8c826bda6f",
     "locked": true,
     "schema_version": 1,
     "solution": false
    }
   },
   "source": [
    "2: Create a new variable `filenames` that is an empty list."
   ]
  },
  {
   "cell_type": "code",
   "execution_count": null,
   "metadata": {
    "collapsed": true,
    "nbgrader": {
     "grade": false,
     "grade_id": "empty-filenames-list",
     "locked": false,
     "schema_version": 1,
     "solution": true
    }
   },
   "outputs": [],
   "source": [
    "### BEGIN SOLUTION\n",
    "filenames = []\n",
    "### END SOLUTION"
   ]
  },
  {
   "cell_type": "code",
   "execution_count": null,
   "metadata": {
    "collapsed": false,
    "nbgrader": {
     "grade": true,
     "grade_id": "empty-filenames-list-correct",
     "locked": true,
     "points": 0.25,
     "schema_version": 1,
     "solution": false
    }
   },
   "outputs": [],
   "source": [
    "# Test print of the variable\n",
    "print(filenames)\n",
    "\n",
    "### BEGIN HIDDEN TESTS\n",
    "\n",
    "from nose.tools import ok_\n",
    "ok_('filenames' in locals())\n",
    "ok_(isinstance(filenames, list))\n",
    "\n",
    "### END HIDDEN TESTS"
   ]
  },
  {
   "cell_type": "markdown",
   "metadata": {
    "nbgrader": {
     "grade": false,
     "grade_id": "cell-8d239a9e2ada7c4a",
     "locked": true,
     "schema_version": 1,
     "solution": false
    }
   },
   "source": [
    "3: Iterate over the number range 0-20 and\n",
    "  - Create a variable `station` that contains the 1) text from `basename` variable, 2) the number, and 3) the file extension `.txt`  \n",
    "  - Add the content of `station` to `filenames` list which should have following content in the end:\n",
    "\n",
    "      ```\n",
    "      ['Station_0.txt', 'Station_1.txt', 'Station_2.txt', 'Station_3.txt',\n",
    "       'Station_4.txt', 'Station_5.txt', 'Station_6.txt', 'Station_7.txt',\n",
    "       'Station_8.txt', 'Station_9.txt', 'Station_10.txt', 'Station_11.txt',\n",
    "       'Station_12.txt', 'Station_13.txt', 'Station_14.txt', 'Station_15.txt',\n",
    "       'Station_16.txt', 'Station_17.txt', 'Station_18.txt', 'Station_19.txt',\n",
    "       'Station_20.txt']\n",
    "      ```"
   ]
  },
  {
   "cell_type": "code",
   "execution_count": null,
   "metadata": {
    "collapsed": false,
    "nbgrader": {
     "grade": false,
     "grade_id": "populate-filenames-list",
     "locked": false,
     "schema_version": 1,
     "solution": true
    }
   },
   "outputs": [],
   "source": [
    "### BEGIN SOLUTION\n",
    "\n",
    "# Iterate from 0 up to 20\n",
    "for i in range(21):\n",
    "    # Create the name\n",
    "    station = basename + \"_\" + str(i) + \".txt\"\n",
    "    # Append to lis\n",
    "    filenames.append(station)\n",
    "\n",
    "# Print the contents\n",
    "print(filenames)\n",
    "    \n",
    "### END SOLUTION"
   ]
  },
  {
   "cell_type": "code",
   "execution_count": null,
   "metadata": {
    "collapsed": false,
    "nbgrader": {
     "grade": true,
     "grade_id": "populate-filenames-list-1",
     "locked": true,
     "points": 2.5,
     "schema_version": 1,
     "solution": false
    }
   },
   "outputs": [],
   "source": [
    "# Test print of the results\n",
    "print(filenames)\n",
    "\n",
    "### BEGIN HIDDEN TESTS\n",
    "from nose.tools import ok_, assert_equal\n",
    "\n",
    "# Check that 'station' variable exists\n",
    "ok_('station' in locals())\n",
    "\n",
    "# Check that the value of the last station is correct\n",
    "assert_equal(station.lower().strip(), \"station_20.txt\")\n",
    "\n",
    "# Check that there exists 21 values in the list\n",
    "ok_(len(filenames) == 21)\n",
    "\n",
    "correct_list = ['station_0.txt', 'station_1.txt', 'station_2.txt', 'station_3.txt', 'station_4.txt', 'station_5.txt', 'station_6.txt', 'station_7.txt', 'station_8.txt', 'station_9.txt', 'station_10.txt', 'station_11.txt', 'station_12.txt', 'station_13.txt', 'station_14.txt', 'station_15.txt', 'station_16.txt', 'station_17.txt', 'station_18.txt', 'station_19.txt', 'station_20.txt']\n",
    "\n",
    "# Check that the contents match (use lowercase to allow some variation in upper/lower case)\n",
    "for value in filenames:\n",
    "    ok_(value.strip().lower() in correct_list)\n",
    "\n",
    "### END HIDDEN TESTS"
   ]
  },
  {
   "cell_type": "markdown",
   "metadata": {
    "nbgrader": {
     "grade": false,
     "grade_id": "cell-b3559a55a94170a5",
     "locked": true,
     "schema_version": 1,
     "solution": false
    }
   },
   "source": [
    "**Your score on this problem will be based on following criteria:**\n",
    "\n",
    " - Creating and using variables to produce the desired text format\n",
    " - Successfully using for loop to iterate over desired set of numbers\n",
    " - Successfully producing the desired filename\n",
    " - Including comments that explain what most lines in the code do\n",
    " - Uploading your notebook to your GitHub repository for this week's Exercise\n"
   ]
  },
  {
   "cell_type": "markdown",
   "metadata": {
    "nbgrader": {
     "grade": false,
     "grade_id": "cell-c39c52b1360ffc9a",
     "locked": true,
     "schema_version": 1,
     "solution": false
    }
   },
   "source": [
    "### Comment section:\n",
    "\n",
    "Here, we ask a few questions to make sure you have understand the concepts etc. Answer shortly with a \n",
    "\n",
    "You can also write any feedback or questions concerning this problem (we will also use this space for giving feedback to you, if necessary).\n",
    "\n",
    "1: Is the concept of a loop clear to you? If not, what is difficult to understand?\n",
    "     \n",
    "\n",
    "2: Did you include comments in your code blocks?\n",
    "  \n",
    "Write your answers below:"
   ]
  },
  {
   "cell_type": "markdown",
   "metadata": {
    "nbgrader": {
     "grade": true,
     "grade_id": "p1-style-assessment",
     "locked": false,
     "points": 1,
     "schema_version": 1,
     "solution": true
    }
   },
   "source": []
  },
  {
   "cell_type": "markdown",
   "metadata": {
    "nbgrader": {
     "grade": false,
     "grade_id": "cell-0ed6079262d5ad09",
     "locked": true,
     "schema_version": 1,
     "solution": false
    }
   },
   "source": [
    "## Problem 2 - Classifying temperatures (**8 points**)\n",
    "\n",
    "### Overview\n",
    "\n",
    "This problem is meant to introduce you to a very commonly used and useful concept of data classification.\n",
    "In this problem your aim is to classify daily temperatures stored in `temperatures` list into four different classes:\n",
    "\n",
    "  1. **Cold** ==> temperatures below -2 degrees (Celsius)\n",
    "  2. **Slippery** ==> temperatures warmer or equal to -2 degrees and up to +2 degrees (Celsius)\n",
    "  3. **Comfortable** ==> temperatures warmer or equal to +2 degrees and up to +15 degrees (Celsius)\n",
    "  4. **Warm** ==> temperatures warmer or equal to +15 degrees (Celsius)\n",
    "\n",
    "To solve this problem, you should modify and fill in the missing parts in the following cells.\n",
    "In total, there are three tasks that you should solve according the directions. In addition, there is\n",
    "one additional task (Task 4) that is **optional** for the students that are quicker (*does not affect grading*).\n",
    "\n",
    "**Your score on this problem will be based on following criteria:**\n",
    "\n",
    " - Using for loop to iterate over the temperature values\n",
    " - Using conditional statements to find out if a value is within certain value range\n",
    " - Printing information for the user\n",
    " - Including comments that explain what most lines in the code do\n",
    " - Uploading your Notebook to your GitHub repository for this week's Exercise.\n",
    "\n"
   ]
  },
  {
   "cell_type": "code",
   "execution_count": null,
   "metadata": {
    "collapsed": true,
    "nbgrader": {
     "grade": false,
     "grade_id": "cell-23eff23f38dcef88",
     "locked": true,
     "schema_version": 1,
     "solution": false
    }
   },
   "outputs": [],
   "source": [
    "# A list of night-time, day-time and evening temperatures for April 2013 measured in Helsinki Malmi Airport. \n",
    "# The list contains 90 values since there are 3 values for each day (April has 30 days).\n",
    "# The first value of a single day represents night, the second one day-time, and the third one evening temperature.\n",
    "\n",
    "temperatures = [-5.4, 1.0, -1.3, -4.8, 3.9, 0.1, -4.4, 4.0, -2.2, -3.9, 4.4,\n",
    "                -2.5, -4.6, 5.1, 2.1, -2.4, 1.9, -3.3, -4.8, 1.0, -0.8, -2.8,\n",
    "                -0.1, -4.7, -5.6, 2.6, -2.7, -4.6, 3.4, -0.4, -0.9, 3.1, 2.4,\n",
    "                1.6, 4.2, 3.5, 2.6, 3.1, 2.2, 1.8, 3.3, 1.6, 1.5, 4.7, 4.0,\n",
    "                3.6, 4.9, 4.8, 5.3, 5.6, 4.1, 3.7, 7.6, 6.9, 5.1, 6.4, 3.8,\n",
    "                4.0, 8.6, 4.1, 1.4, 8.9, 3.0, 1.6, 8.5, 4.7, 6.6, 8.1, 4.5,\n",
    "                4.8, 11.3, 4.7, 5.2, 11.5, 6.2, 2.9, 4.3, 2.8, 2.8, 6.3, 2.6,\n",
    "                -0.0, 7.3, 3.4, 4.7, 9.3, 6.4, 5.4, 7.6, 5.2]"
   ]
  },
  {
   "cell_type": "markdown",
   "metadata": {
    "nbgrader": {
     "grade": false,
     "grade_id": "cell-231e79629b28467b",
     "locked": true,
     "schema_version": 1,
     "solution": false
    }
   },
   "source": [
    "1: Create four empty lists for different temperature classes, i.e.:\n",
    "\n",
    "  - `cold`\n",
    "  - `slippery`\n",
    "  - `comfortable`\n",
    "  - `warm`\n",
    "  \n",
    "Be careful to use **exactly** these names for your lists."
   ]
  },
  {
   "cell_type": "code",
   "execution_count": null,
   "metadata": {
    "collapsed": true,
    "nbgrader": {
     "grade": false,
     "grade_id": "temp-lists",
     "locked": false,
     "schema_version": 1,
     "solution": true
    }
   },
   "outputs": [],
   "source": [
    "### BEGIN SOLUTION\n",
    "cold = []\n",
    "slippery = []\n",
    "comfortable = []\n",
    "warm = []\n",
    "### END SOLUTION"
   ]
  },
  {
   "cell_type": "code",
   "execution_count": null,
   "metadata": {
    "collapsed": false,
    "nbgrader": {
     "grade": true,
     "grade_id": "temp-lists-tests",
     "locked": true,
     "points": 0.5,
     "schema_version": 1,
     "solution": false
    }
   },
   "outputs": [],
   "source": [
    "# Test print for all lists (they should be empty at this point)\n",
    "print(cold, slippery, comfortable, warm)\n",
    "\n",
    "### BEGIN HIDDEN TESTS\n",
    "from nose.tools import ok_\n",
    "\n",
    "# Check that variables exists\n",
    "ok_('cold' in locals())\n",
    "ok_('slippery' in locals())\n",
    "ok_('comfortable' in locals())\n",
    "ok_('warm' in locals())\n",
    "\n",
    "### END HIDDEN TESTS"
   ]
  },
  {
   "cell_type": "markdown",
   "metadata": {
    "nbgrader": {
     "grade": false,
     "grade_id": "cell-91b0e5ae2c7cdf84",
     "locked": true,
     "schema_version": 1,
     "solution": false
    }
   },
   "source": [
    "2: Iterate over temperatures and add temperatures to different temperature classes as defined below (*5.5 points*):\n",
    "  - **Cold** ==> temperatures below -2 degrees (Celsius)\n",
    "  - **Slippery** ==> temperatures warmer or equal to -2 degrees and up to +2 degrees (Celsius)\n",
    "  - **Comfortable** ==> temperatures warmer of equal to +2 degrees and up to +15 degrees (Celsius)\n",
    "  - **Warm** ==> temperatures above or equal to +15 degrees (Celsius)"
   ]
  },
  {
   "cell_type": "code",
   "execution_count": null,
   "metadata": {
    "collapsed": true,
    "nbgrader": {
     "grade": false,
     "grade_id": "temp-classes",
     "locked": false,
     "schema_version": 1,
     "solution": true
    }
   },
   "outputs": [],
   "source": [
    "### BEGIN SOLUTION\n",
    "# Iterate over values using for loop\n",
    "for temp in temperatures:\n",
    "    # Create conditions for different temperature ranges\n",
    "    if temp < -2:\n",
    "        # Add to list\n",
    "        cold.append(temp)\n",
    "    elif temp >= -2 and temp < 2:\n",
    "        slippery.append(temp)\n",
    "    elif temp >= 2 and temp < 15:\n",
    "        comfortable.append(temp)\n",
    "    elif temp >= 15:\n",
    "        warm.append(temp)\n",
    "### END SOLUTION"
   ]
  },
  {
   "cell_type": "code",
   "execution_count": null,
   "metadata": {
    "collapsed": false,
    "nbgrader": {
     "grade": true,
     "grade_id": "temp-classes-tests",
     "locked": true,
     "points": 5.5,
     "schema_version": 1,
     "solution": false
    }
   },
   "outputs": [],
   "source": [
    "# Test prints for all lists (now they should contain values)\n",
    "print(cold, slippery, comfortable, warm)\n",
    "\n",
    "### BEGIN HIDDEN TESTS\n",
    "from nose.tools import assert_equal\n",
    "correct_cold = [-5.4, -4.8, -4.4, -2.2, -3.9, -2.5, -4.6, -2.4, -3.3, -4.8, -2.8, -4.7, -5.6, -2.7, -4.6]\n",
    "correct_slippery = [1.0, -1.3, 0.1, 1.9, 1.0, -0.8, -0.1, -0.4, -0.9, 1.6, 1.8, 1.6, 1.5, 1.4, 1.6, -0.0]\n",
    "correct_comfortable = [3.9, 4.0, 4.4, 5.1, 2.1, 2.6, 3.4, 3.1, 2.4, 4.2, 3.5, 2.6, 3.1, 2.2, 3.3, 4.7, 4.0, 3.6, 4.9, 4.8, 5.3, 5.6, 4.1, 3.7, 7.6, 6.9, 5.1, 6.4, 3.8, 4.0, 8.6, 4.1, 8.9, 3.0, 8.5, 4.7, 6.6, 8.1, 4.5, 4.8, 11.3, 4.7, 5.2, 11.5, 6.2, 2.9, 4.3, 2.8, 2.8, 6.3, 2.6, 7.3, 3.4, 4.7, 9.3, 6.4, 5.4, 7.6, 5.2]\n",
    "correct_warm = []\n",
    "\n",
    "# Test that values in temperature classes are correct\n",
    "assert_equal(cold, correct_cold)\n",
    "assert_equal(slippery, correct_slippery)\n",
    "assert_equal(comfortable, correct_comfortable)\n",
    "assert_equal(warm, correct_warm)\n",
    "\n",
    "### END HIDDEN TESTS\n"
   ]
  },
  {
   "cell_type": "markdown",
   "metadata": {
    "nbgrader": {
     "grade": false,
     "grade_id": "cell-4aedd09e1471086e",
     "locked": true,
     "schema_version": 1,
     "solution": false
    }
   },
   "source": [
    "3: Questions - print the answers (*1 point*)\n",
    "\n",
    "- How many times was it slippery during the study period?"
   ]
  },
  {
   "cell_type": "code",
   "execution_count": null,
   "metadata": {
    "collapsed": true,
    "nbgrader": {
     "grade": false,
     "grade_id": "slippery-times",
     "locked": false,
     "schema_version": 1,
     "solution": true
    }
   },
   "outputs": [],
   "source": [
    "# Edit the variable to find correct answer\n",
    "slippery_times = 'XXX'\n",
    "\n",
    "### BEGIN SOLUTION\n",
    "slippery_times = len(slippery)\n",
    "### END SOLUTION"
   ]
  },
  {
   "cell_type": "code",
   "execution_count": null,
   "metadata": {
    "collapsed": false,
    "nbgrader": {
     "grade": true,
     "grade_id": "slippery-times-test",
     "locked": true,
     "points": 0.33,
     "schema_version": 1,
     "solution": false
    }
   },
   "outputs": [],
   "source": [
    "# Print the answer\n",
    "print(\"In April 2013 it was slippery\", slippery_times, \"times.\")\n",
    "\n",
    "### BEGIN HIDDEN TESTS\n",
    "from nose.tools import assert_equal\n",
    "# It was slippery 16 times\n",
    "assert_equal(slippery_times, 16)\n",
    "\n",
    "### END HIDDEN TESTS"
   ]
  },
  {
   "cell_type": "markdown",
   "metadata": {
    "nbgrader": {
     "grade": false,
     "grade_id": "cell-4aedd09e1471086ee",
     "locked": true,
     "schema_version": 1,
     "solution": false
    }
   },
   "source": [
    "\n",
    "- How many times was it warm during the study period?"
   ]
  },
  {
   "cell_type": "code",
   "execution_count": null,
   "metadata": {
    "collapsed": true,
    "nbgrader": {
     "grade": false,
     "grade_id": "warm-times",
     "locked": false,
     "schema_version": 1,
     "solution": true
    }
   },
   "outputs": [],
   "source": [
    "# Edit the variable to find correct answer\n",
    "warm_times = 'XXX'\n",
    "\n",
    "### BEGIN SOLUTION\n",
    "warm_times = len(warm)\n",
    "### END SOLUTION"
   ]
  },
  {
   "cell_type": "code",
   "execution_count": null,
   "metadata": {
    "collapsed": false,
    "nbgrader": {
     "grade": true,
     "grade_id": "warm-times-test",
     "locked": true,
     "points": 0.33,
     "schema_version": 1,
     "solution": false
    }
   },
   "outputs": [],
   "source": [
    "# Print the answer\n",
    "print(\"In April 2013 it was warm\", warm_times, \"times.\")\n",
    "\n",
    "### BEGIN HIDDEN TESTS\n",
    "from nose.tools import assert_equal\n",
    "# It was slippery 16 times\n",
    "assert_equal(warm_times, 0)\n",
    "\n",
    "### END HIDDEN TESTS"
   ]
  },
  {
   "cell_type": "markdown",
   "metadata": {
    "nbgrader": {
     "grade": false,
     "grade_id": "cell-3ab66e0c60d886cd",
     "locked": true,
     "schema_version": 1,
     "solution": false
    }
   },
   "source": [
    "- How many times was it cold during the study period?"
   ]
  },
  {
   "cell_type": "code",
   "execution_count": null,
   "metadata": {
    "collapsed": true,
    "nbgrader": {
     "grade": false,
     "grade_id": "cold-times",
     "locked": false,
     "schema_version": 1,
     "solution": true
    }
   },
   "outputs": [],
   "source": [
    "# Edit the variable to find correct answer\n",
    "cold_times = 'XXX'\n",
    "\n",
    "### BEGIN SOLUTION\n",
    "cold_times = len(cold)\n",
    "### END SOLUTION"
   ]
  },
  {
   "cell_type": "code",
   "execution_count": null,
   "metadata": {
    "collapsed": false,
    "nbgrader": {
     "grade": true,
     "grade_id": "cold-times-test",
     "locked": true,
     "points": 0.34,
     "schema_version": 1,
     "solution": false
    }
   },
   "outputs": [],
   "source": [
    "# Print the answer\n",
    "print(\"In April 2013 it was cold\", cold_times, \"times.\")\n",
    "\n",
    "### BEGIN HIDDEN TESTS\n",
    "from nose.tools import assert_equal\n",
    "# It was slippery 16 times\n",
    "assert_equal(cold_times, 15)\n",
    "\n",
    "### END HIDDEN TESTS"
   ]
  },
  {
   "cell_type": "markdown",
   "metadata": {
    "nbgrader": {
     "grade": false,
     "grade_id": "cell-172767f7859f529a",
     "locked": true,
     "schema_version": 1,
     "solution": false
    }
   },
   "source": [
    "### Comment section:\n",
    "\n",
    "Here, we ask a few questions to make sure you have understand the concepts etc. Answer shortly with a couple of sentences to following questions.\n",
    "\n",
    "You can also write any feedback or questions concerning this problem (we will also use this space for giving feedback to you, if necessary).\n",
    "\n",
    "#### Questions\n",
    "\n",
    "1: Is the concept of conditional statements clear to you? If not, what is difficult to understand?\n",
    "\n",
    "2: Did you include comments in your code blocks?\n",
    "  \n",
    "Write your answers below:"
   ]
  },
  {
   "cell_type": "markdown",
   "metadata": {
    "collapsed": true,
    "nbgrader": {
     "grade": true,
     "grade_id": "p2-style-assessment",
     "locked": false,
     "points": 1,
     "schema_version": 1,
     "solution": true
    }
   },
   "source": []
  },
  {
   "cell_type": "markdown",
   "metadata": {
    "nbgrader": {
     "grade": false,
     "grade_id": "cell-cfc43ff166b32014",
     "locked": true,
     "schema_version": 1,
     "solution": false
    }
   },
   "source": [
    "## Problem 3 - Allocating locations (**8 points**)\n",
    "\n",
    "\n",
    "### Overview \n",
    "Following map shows the locations of the weather stations (as blue points) in Finland that are more than 70 years old [1].\n",
    "In this problem we are interested to find out whether the station network was equally distributed across Finland\n",
    "seventy years ago. We have divided Finland into four geographical zones (i.e. North West, North East, South West, South East)\n",
    "according the approximate center point of Finnish mainland located at `26.3, 64.5` (lon-lat in decimal degrees).\n",
    "\n",
    "![](img/FMI_stations_70_years_older.png)\n",
    "\n",
    "[1]: The locations and the age of weather stations were obtained from: http://en.ilmatieteenlaitos.fi/observation-stations\n",
    "\n",
    "Below, we have given you the coordinates of 34 weather stations.\n",
    "The location of a single station is determined with a pair of latitude and longitude coordinates.\n",
    "The coordinates of all the stations are separated into two lists (`lat` and `lon`) and the names of the stations are in `stations` list. From these lists, you would get e.g. the location of the first station by combining the latitude and longitude coordinates from coordinate lists, and the name of that station from `stations` list at index[0]:\n",
    "\n",
    "### Problem statement\n",
    "\n",
    "In this problem your job is to print the names of weather stations located in different zones. **Optionally** you should also report the share of weather stations that allocated to each zone that could be used to evaluate if certain zone was over/under-represented seventy years ago (optional task, does not affect on grading).\n",
    "\n",
    "To solve this problem, you should modify and fill in the missing parts in the code cells below.\n",
    "\n",
    "**Your score on this problem will be based on following criteria:**\n",
    "\n",
    " 1. Create four lists for geographical zones in Finland (i.e. `nort_west`, `north_east`, `south_west`, `south_east`)\n",
    " 2. Iterate over values and determine to which geographical zone the station belongs\n",
    "    1. Hint: You should create a loop that iterates `N` -number of times. Create a variable *`N`* that should contain the number of stations we have here.\n",
    "    2. You should use a conditional statement to find out if the latitude coordinate of a station is either North or South of the center point of Finland (`26.3, 64.5`) **AND** if the longitude location is West or East from that center point.\n",
    "    3. You should insert the name of the station into the correct geographical zone list (step 1)\n",
    " 3. Print out the names of stations at each geographical zone\n",
    " 4. **Optional:** Calculate and print the share of stations at each zone (the total number of stations equals to 100 %)"
   ]
  },
  {
   "cell_type": "markdown",
   "metadata": {
    "nbgrader": {
     "grade": false,
     "grade_id": "cell-04c9e4753d75ab41",
     "locked": true,
     "schema_version": 1,
     "solution": false
    }
   },
   "source": [
    "### Data\n",
    "\n",
    "Here, we provide you the data you should use to solve the problem 3 (run the cell to get values into the memory of your computer):"
   ]
  },
  {
   "cell_type": "code",
   "execution_count": null,
   "metadata": {
    "collapsed": true,
    "nbgrader": {
     "grade": false,
     "grade_id": "cell-8e88e1d62161160f",
     "locked": true,
     "schema_version": 1,
     "solution": false
    }
   },
   "outputs": [],
   "source": [
    "# Station names\n",
    "stations = ['Hanko Russarö', 'Heinola Asemantaus', 'Helsinki Kaisaniemi', \n",
    "            'Helsinki Malmi airfield', 'Hyvinkää Hyvinkäänkylä', 'Joutsa Savenaho', \n",
    "            'Juuka Niemelä', 'Jyväskylä airport', 'Kaarina Yltöinen', 'Kauhava airfield', \n",
    "            'Kemi Kemi-Tornio airport', 'Kotka Rankki', 'Kouvola Anjala', \n",
    "            'Kouvola Utti airport', 'Kuopio Maaninka', 'Kuusamo airport', \n",
    "            'Lieksa Lampela', 'Mustasaari Valassaaret', 'Parainen Utö', 'Pori airport', \n",
    "            'Rovaniemi Apukka', 'Salo Kärkkä', 'Savonlinna Punkaharju Laukansaari', \n",
    "            'Seinäjoki Pelmaa', 'Siikajoki Ruukki', 'Siilinjärvi Kuopio airport', \n",
    "            'Tohmajärvi Kemie', 'Utsjoki Nuorgam', 'Vaala Pelso', 'Vaasa airport', \n",
    "            'Vesanto Sonkari', 'Vieremä Kaarakkala', 'Vihti Maasoja', 'Ylitornio Meltosjärvi']\n",
    "\n",
    "# Latitude coordinates of Weather stations  \n",
    "lats = [59.77, 61.2, 60.18, 60.25, 60.6, 61.88, 63.23, 62.4,\n",
    "       60.39, 63.12, 65.78, 60.38, 60.7, 60.9, 63.14, 65.99,\n",
    "       63.32, 63.44, 59.78, 61.47, 66.58, 60.37, 61.8, 62.94,\n",
    "       64.68, 63.01, 62.24, 70.08, 64.5, 63.06, 62.92, 63.84,\n",
    "       60.42, 66.53]\n",
    "\n",
    "# Longitude coordinates of Weather stations \n",
    "lons = [22.95, 26.05, 24.94, 25.05, 24.8, 26.09, 29.23, 25.67, \n",
    "       22.55, 23.04, 24.58, 26.96, 26.81, 26.95, 27.31, 29.23, \n",
    "       30.05, 21.07, 21.37, 21.79, 26.01, 23.11, 29.32, 22.49, \n",
    "       25.09, 27.8, 30.35, 27.9, 26.42, 21.75, 26.42, 27.22, \n",
    "       24.4, 24.65]\n",
    "\n",
    "# Cutoff values that correspond to the centroid of Finnish mainland\n",
    "# North - South\n",
    "north_south_cutoff = 64.5\n",
    "\n",
    "# East-West\n",
    "east_west_cutoff = 26.3"
   ]
  },
  {
   "cell_type": "markdown",
   "metadata": {
    "nbgrader": {
     "grade": false,
     "grade_id": "cell-f6d0052cd6cdf0a2",
     "locked": true,
     "schema_version": 1,
     "solution": false
    }
   },
   "source": [
    "- Create four empty lists for geographical zones in Finland, use **exactly** following variable names (**0.5 points**)\n",
    "   - `north_west`\n",
    "   - `north_east`\n",
    "   - `south_west`\n",
    "   - `south_east`"
   ]
  },
  {
   "cell_type": "code",
   "execution_count": null,
   "metadata": {
    "collapsed": true,
    "nbgrader": {
     "grade": false,
     "grade_id": "geo-zones",
     "locked": false,
     "schema_version": 1,
     "solution": true
    }
   },
   "outputs": [],
   "source": [
    "### BEGIN SOLUTION\n",
    "# Empty lists for stations located at different geographical zones\n",
    "north_west = []\n",
    "north_east = []\n",
    "south_west = []\n",
    "south_east = []\n",
    "### END SOLUTION"
   ]
  },
  {
   "cell_type": "code",
   "execution_count": null,
   "metadata": {
    "collapsed": false,
    "nbgrader": {
     "grade": true,
     "grade_id": "geo-zones-test",
     "locked": true,
     "points": 0.5,
     "schema_version": 1,
     "solution": false
    }
   },
   "outputs": [],
   "source": [
    "# This test print should work\n",
    "print(north_west, south_west)\n",
    "\n",
    "### BEGIN HIDDEN TESTS\n",
    "from nose.tools import ok_\n",
    "# Test that variables exist\n",
    "ok_(\"north_west\" in locals())\n",
    "ok_(\"north_east\" in locals())\n",
    "ok_(\"south_west\" in locals())\n",
    "ok_(\"south_east\" in locals())\n",
    "\n",
    "# Test that they are lists\n",
    "ok_(isinstance(north_west, list) )\n",
    "ok_(isinstance(north_east, list) )\n",
    "ok_(isinstance(south_west, list) )\n",
    "ok_(isinstance(south_east, list) )\n",
    "\n",
    "# Test that they are empty\n",
    "ok_(len(north_west) == 0 )\n",
    "ok_(len(north_east) == 0 )\n",
    "ok_(len(south_west) == 0 )\n",
    "ok_(len(south_east) == 0 )\n",
    "\n",
    "### END HIDDEN TESTS"
   ]
  },
  {
   "cell_type": "markdown",
   "metadata": {
    "nbgrader": {
     "grade": false,
     "grade_id": "cell-e10c2217d79e4d2d",
     "locked": true,
     "schema_version": 1,
     "solution": false
    }
   },
   "source": [
    "**Step 1**: Count the number of stations and store that value in variable: *`N`* (*0.5 points*)"
   ]
  },
  {
   "cell_type": "code",
   "execution_count": null,
   "metadata": {
    "collapsed": true,
    "nbgrader": {
     "grade": false,
     "grade_id": "station_count",
     "locked": false,
     "schema_version": 1,
     "solution": true
    }
   },
   "outputs": [],
   "source": [
    "### BEGIN SOLUTION\n",
    "# Determine the number of stations that we have in total\n",
    "N = len(stations)\n",
    "### END SOLUTION"
   ]
  },
  {
   "cell_type": "code",
   "execution_count": null,
   "metadata": {
    "collapsed": false,
    "nbgrader": {
     "grade": true,
     "grade_id": "station_count_test",
     "locked": true,
     "points": 0.5,
     "schema_version": 1,
     "solution": false
    }
   },
   "outputs": [],
   "source": [
    "# How many stations do we have?\n",
    "print(\"In the data, there are\", N, \"stations.\")\n",
    "\n",
    "### BEGIN HIDDEN TESTS\n",
    "from nose.tools import assert_equal\n",
    "assert_equal(N, 34)\n",
    "### END HIDDEN TESTS"
   ]
  },
  {
   "cell_type": "markdown",
   "metadata": {
    "nbgrader": {
     "grade": false,
     "grade_id": "cell-ee1ba6aa16c9f807",
     "locked": true,
     "schema_version": 1,
     "solution": false
    }
   },
   "source": [
    "**Step 2**: Make a loop that iterates N number of times, and allocates stations to different geographical zones based on the coordinates. "
   ]
  },
  {
   "cell_type": "code",
   "execution_count": null,
   "metadata": {
    "collapsed": false,
    "nbgrader": {
     "grade": false,
     "grade_id": "allocate_stations",
     "locked": false,
     "schema_version": 1,
     "solution": true
    }
   },
   "outputs": [],
   "source": [
    "### BEGIN SOLUTION\n",
    "\n",
    "# Step 2. Make a loop that iterates N number of times. \n",
    "# N should be based on the number of stations that we have here. \n",
    "# --------------------------------------------------------------\n",
    "\n",
    "# Create a for loop that runs N number of times\n",
    "for i in range(N):\n",
    "    \n",
    "    # Step 2.1 Find out the latitude, longitude and the name of the station at index i\n",
    "    lat = lats[i]\n",
    "    lon = lons[i]\n",
    "    station = stations[i]\n",
    "    \n",
    "    # Steps 2.2-2.3 - Make conditional statements to add the station to correct zone -list\n",
    "    # You should determine if \n",
    "    # a) the lat coordinate is North or South of the center latitude (stored in NScutoff variable)\n",
    "    # AND \n",
    "    # b) if the lon coordinate is East or West of the center longitude (stored in EWcutoff variable)\n",
    "    # c) Based on the criteria you should add the NAME of the station (from stations -list) to correct list (done in step 1)\n",
    "    \n",
    "    # Make conditional statements to allocate the stations to correct zones\n",
    "    \n",
    "    # Check if the station is South from central point\n",
    "    if lat <= north_south_cutoff:\n",
    "        # Check if the station is in West\n",
    "        if lon <= east_west_cutoff:\n",
    "            # If it was South-West add the station name to corresponding list    \n",
    "            south_west.append(station)\n",
    "        else:\n",
    "            # If it was not, it must be located in the South-East part of Finland\n",
    "            south_east.append(station)\n",
    "    # Otherwise the station must be North (hence we can use else)\n",
    "    else:\n",
    "        # Check if the station is in West\n",
    "        if lon <= east_west_cutoff:\n",
    "            # If it was West, add the station name to North-West list    \n",
    "            north_west.append(station)\n",
    "        else:\n",
    "            # If it was not, it must be located in the North-East part of Finland\n",
    "            north_east.append(station)\n",
    "            \n",
    "### END SOLUTION"
   ]
  },
  {
   "cell_type": "markdown",
   "metadata": {
    "nbgrader": {
     "grade": false,
     "grade_id": "cell-4e6da88a142c7559",
     "locked": true,
     "schema_version": 1,
     "solution": false
    }
   },
   "source": [
    "**Step 3:** In the following cells, you should print out the correct names for each geographical zone. (*1.5 points each - total: 6 points*)\n",
    "    \n",
    "   - We have given you the correct number of stations as a hint for each zone, so it is easier for you to know whether you have correct answer. "
   ]
  },
  {
   "cell_type": "code",
   "execution_count": null,
   "metadata": {
    "collapsed": false,
    "nbgrader": {
     "grade": true,
     "grade_id": "allocate_stations_test_nw",
     "locked": true,
     "points": 1.5,
     "schema_version": 1,
     "solution": false
    }
   },
   "outputs": [],
   "source": [
    "# This test print should print out station names in North West\n",
    "# Hint: there should be 4 stations in this class\n",
    "print(\"The names of the North-West stations are:\\n\", north_west)\n",
    "\n",
    "### BEGIN HIDDEN TESTS\n",
    "from nose.tools import assert_equal\n",
    "\n",
    "# Correctly allocated stations\n",
    "nw_correct = ['Kemi Kemi-Tornio airport', 'Rovaniemi Apukka', 'Siikajoki Ruukki', 'Ylitornio Meltosjärvi']\n",
    "\n",
    "# Test the results\n",
    "assert_equal(north_west, nw_correct)\n",
    "\n",
    "### END HIDDEN TESTS"
   ]
  },
  {
   "cell_type": "code",
   "execution_count": null,
   "metadata": {
    "collapsed": false,
    "nbgrader": {
     "grade": true,
     "grade_id": "allocate_stations_test_ne",
     "locked": true,
     "points": 1.5,
     "schema_version": 1,
     "solution": false
    }
   },
   "outputs": [],
   "source": [
    "# This test print should print out station names in North Eest\n",
    "# Hint: there should be 2 stations in this class\n",
    "print(\"The names of the North-East stations are:\\n\", north_east)\n",
    "\n",
    "### BEGIN HIDDEN TESTS\n",
    "from nose.tools import assert_equal\n",
    "\n",
    "# Correctly allocated stations\n",
    "ne_correct = ['Kuusamo airport', 'Utsjoki Nuorgam']\n",
    "\n",
    "# Test the results\n",
    "assert_equal(north_east, ne_correct)\n",
    "\n",
    "### END HIDDEN TESTS"
   ]
  },
  {
   "cell_type": "code",
   "execution_count": null,
   "metadata": {
    "collapsed": false,
    "nbgrader": {
     "grade": true,
     "grade_id": "allocate_stations_test_sw",
     "locked": true,
     "points": 1.5,
     "schema_version": 1,
     "solution": false
    }
   },
   "outputs": [],
   "source": [
    "# This test print should print out station names in South West\n",
    "# Hint: there should be 16 stations in this class\n",
    "print(\"The names of the South-West stations are:\\n\", south_west)\n",
    "\n",
    "### BEGIN HIDDEN TESTS\n",
    "from nose.tools import assert_equal\n",
    "\n",
    "# Correctly allocated stations\n",
    "sw_correct = ['Hanko Russarö', 'Heinola Asemantaus', 'Helsinki Kaisaniemi', 'Helsinki Malmi airfield', 'Hyvinkää Hyvinkäänkylä', 'Joutsa Savenaho', 'Jyväskylä airport', 'Kaarina Yltöinen', 'Kauhava airfield', 'Mustasaari Valassaaret', 'Parainen Utö', 'Pori airport', 'Salo Kärkkä', 'Seinäjoki Pelmaa', 'Vaasa airport', 'Vihti Maasoja']\n",
    "\n",
    "# Test the results\n",
    "assert_equal(south_west, sw_correct)\n",
    "\n",
    "### END HIDDEN TESTS"
   ]
  },
  {
   "cell_type": "code",
   "execution_count": null,
   "metadata": {
    "collapsed": false,
    "nbgrader": {
     "grade": true,
     "grade_id": "allocate_stations_test_se",
     "locked": true,
     "points": 1.5,
     "schema_version": 1,
     "solution": false
    }
   },
   "outputs": [],
   "source": [
    "# This test print should print out station names in South East\n",
    "# Hint: there should be 12 stations in this class\n",
    "print(\"The names of the South-East stations are:\\n\", south_east)\n",
    "\n",
    "### BEGIN HIDDEN TESTS\n",
    "from nose.tools import assert_equal\n",
    "\n",
    "# Correctly allocated stations\n",
    "se_correct = ['Juuka Niemelä', 'Kotka Rankki', 'Kouvola Anjala', 'Kouvola Utti airport', 'Kuopio Maaninka', 'Lieksa Lampela', 'Savonlinna Punkaharju Laukansaari', 'Siilinjärvi Kuopio airport', 'Tohmajärvi Kemie', 'Vaala Pelso', 'Vesanto Sonkari', 'Vieremä Kaarakkala']\n",
    "assert_equal(south_east, se_correct)\n",
    "\n",
    "### END HIDDEN TESTS"
   ]
  },
  {
   "cell_type": "markdown",
   "metadata": {
    "nbgrader": {
     "grade": false,
     "grade_id": "cell-06b4756206920ed8",
     "locked": true,
     "schema_version": 1,
     "solution": false
    }
   },
   "source": [
    "### Comment section:\n",
    "\n",
    "Here, we ask a few questions to make sure you have understand the concepts etc. Answer shortly with a couple of sentences to following questions.\n",
    "\n",
    "\n",
    "You can also write any feedback or questions concerning this problem (we will also use this space for giving feedback to you, if necessary).\n",
    "\n",
    "#### Questions\n",
    "\n",
    "1: Is the concept of using **AND** operator and the difference between **if - elif - else** conditional statements clear to you? If not, what is difficult to understand?\n",
    "\n",
    "2: Did you include comments in your code blocks?\n",
    "\n",
    "Write your answers below:"
   ]
  },
  {
   "cell_type": "markdown",
   "metadata": {
    "collapsed": true,
    "nbgrader": {
     "grade": true,
     "grade_id": "p3-style-assessment",
     "locked": false,
     "points": 1,
     "schema_version": 1,
     "solution": true
    }
   },
   "source": []
  },
  {
   "cell_type": "markdown",
   "metadata": {
    "nbgrader": {
     "grade": false,
     "grade_id": "cell-3cff356d1878fcc4",
     "locked": true,
     "schema_version": 1,
     "solution": false
    }
   },
   "source": [
    "**Step 4 (optional)**: Print the share of stations at each geographical zone (in percentages) (*does not affect grading*)\n",
    "\n",
    " - Store the answers into variables:\n",
    "    - `north_west_share`\n",
    "    - `north_east_share`\n",
    "    - `south_west_share`\n",
    "    - `south_east_share`\n"
   ]
  },
  {
   "cell_type": "code",
   "execution_count": null,
   "metadata": {
    "collapsed": false,
    "nbgrader": {
     "grade": false,
     "grade_id": "station-percentage",
     "locked": false,
     "schema_version": 1,
     "solution": true
    }
   },
   "outputs": [],
   "source": [
    "### BEGIN SOLUTION\n",
    "\n",
    "# We can calculate the shares of each zone by dividing the number of stations\n",
    "# in each zone divided by the total number of stations (stored in variable N).\n",
    "# Multiplying by hundred gives the values in percentages (valuerange 0-100)\n",
    "north_west_share = (len(north_west) / N) * 100\n",
    "north_east_share = (len(north_east) / N) * 100\n",
    "south_west_share = (len(south_west) / N) * 100\n",
    "south_east_share = (len(south_east) / N) * 100\n",
    "\n",
    "### END SOLUTION"
   ]
  },
  {
   "cell_type": "markdown",
   "metadata": {
    "nbgrader": {
     "grade": false,
     "grade_id": "cell-59c827d5417a58eb",
     "locked": true,
     "schema_version": 1,
     "solution": false
    }
   },
   "source": [
    "- Print the results following format: \"North-West contains 99 % of all stations.\" (this is an example not a correct answer)"
   ]
  },
  {
   "cell_type": "code",
   "execution_count": null,
   "metadata": {
    "collapsed": false,
    "nbgrader": {
     "grade": true,
     "grade_id": "station-percentage-tests",
     "locked": true,
     "points": 0,
     "schema_version": 1,
     "solution": false
    }
   },
   "outputs": [],
   "source": [
    "# Print the information (you don't need to modify this)\n",
    "# .format() is a Python function that can be used to easily insert values inside a text-template such as below.\n",
    "# .0f below is a specific operator that rounds the decimal values into whole numbers\n",
    "print(\"North-West contains{share: .0f} % of all stations.\".format(share=north_west_share))\n",
    "print(\"North-East contains{share: .0f} % of all stations.\".format(share=north_east_share))\n",
    "print(\"South-West contains{share: .0f} % of all stations.\".format(share=south_west_share))\n",
    "print(\"South-East contains{share: .0f} % of all stations.\".format(share=south_east_share))\n",
    "\n",
    "### BEGIN HIDDEN TESTS\n",
    "from nose.tools import ok_, assert_equal\n",
    "\n",
    "# Test if variables exist\n",
    "ok_('north_west_share' in locals())\n",
    "ok_('north_east_share' in locals())\n",
    "ok_('south_west_share' in locals())\n",
    "ok_('south_east_share' in locals())\n",
    "\n",
    "# Test correct values (here truncating values is enough to ensure correct values)\n",
    "assert_equal(int(north_west_share), 11)\n",
    "assert_equal(int(north_east_share), 5)\n",
    "assert_equal(int(south_west_share), 47)\n",
    "assert_equal(int(south_east_share), 35)\n",
    "### END HIDDEN TESTS"
   ]
  },
  {
   "cell_type": "markdown",
   "metadata": {
    "nbgrader": {
     "grade": false,
     "grade_id": "cell-21a8d5d201ae7aae",
     "locked": true,
     "schema_version": 1,
     "solution": false
    }
   },
   "source": [
    "## Extra Problem - Nested `for` loops (optional, does not affect grading)\n",
    "\n",
    "**Warning:** This is a difficult problem. Try to do this task only if you have confidence in programming, and you are up for a little challenge. :) \n",
    "\n",
    "In addition to having single `for` loops that iterate across some variable range, it is possible to *nest* `for` loops within one another.\n",
    "\n",
    "Consider the example below:\n",
    "\n",
    "```python\n",
    ">>> for char in 'dog':\n",
    "...     for char2 in 'cat':\n",
    "...         print (char, char2)\n",
    "    d c\n",
    "    d a\n",
    "    d t\n",
    "    o c\n",
    "    o a\n",
    "    o t\n",
    "    g c\n",
    "    g a\n",
    "    g t\n",
    "```\n",
    "\n",
    "Here, you can see that in the first pass through the first `for` loop, the value of `char` is `d`.\n",
    "Entering the inner (or nested) loop, `char2` is set to `c`.\n",
    "After this, the output is written to the screen and since there are more letters to loop over in the inner `for` loop, the value of `char2` will be updated upon the next pass.\n",
    "The second time through the inner loop, `char2` is set to `a` while `char` remains `d`.\n",
    "Like this, the inner loop will run through all of the letters in `cat` for each time that `char` is updated in the outer loop.\n",
    "It doesn't take too much imagination to figure out this is a very useful concept.\n",
    "\n",
    "For this problem you should do following:\n",
    "\n",
    "1. Create a variable `star` with text `\"*\"` and an empty string variable `text`. Recall, you can created empty string variables by assigning `\"\"` as their value.\n",
    "2. Use nested `for` loops and the variables above to produce the text formation below when `print(text)` is run at the end of your script.\n",
    "\n",
    "    ```\n",
    "    *******\n",
    "    *******\n",
    "    *******\n",
    "    ```\n",
    "3. Create a variable `line` with text `\"-\"` and an empty string variable `flag`.\n",
    "4. Use nested `for` loops and the variables above to produce the text formation below when `print(flag)` is run at the end of your script. **Note**: You will need to use conditional statements to produce the desired output.\n",
    "\n",
    "    ```\n",
    "    *******------------\n",
    "    *******------------\n",
    "    *******------------\n",
    "    -------------------\n",
    "    -------------------\n",
    "    ```\n"
   ]
  },
  {
   "cell_type": "markdown",
   "metadata": {
    "nbgrader": {
     "grade": false,
     "grade_id": "cell-45d8efe64ab19148",
     "locked": true,
     "schema_version": 1,
     "solution": false
    }
   },
   "source": [
    "- Your code for producing the asterix square:"
   ]
  },
  {
   "cell_type": "code",
   "execution_count": null,
   "metadata": {
    "collapsed": false,
    "nbgrader": {
     "grade": false,
     "grade_id": "asterix-square",
     "locked": false,
     "schema_version": 1,
     "solution": true
    }
   },
   "outputs": [],
   "source": [
    "### BEGIN SOLUTION\n",
    "star = '*'\n",
    "text = \"\"\n",
    "\n",
    "for i in range(3):\n",
    "    for j in range(7):\n",
    "        text+= star\n",
    "    text += '\\n'\n",
    "\n",
    "### END SOLUTION\n",
    "text"
   ]
  },
  {
   "cell_type": "code",
   "execution_count": null,
   "metadata": {
    "collapsed": false,
    "nbgrader": {
     "grade": true,
     "grade_id": "asterix-square-test",
     "locked": true,
     "points": 0,
     "schema_version": 1,
     "solution": false
    }
   },
   "outputs": [],
   "source": [
    "print(text)\n",
    "### BEGIN HIDDEN TESTS\n",
    "from nose.tools import assert_equal\n",
    "correct_shape = '*******\\n*******\\n*******\\n'\n",
    "assert_equal(text, correct_shape)\n",
    "### END HIDDEN TESTS"
   ]
  },
  {
   "cell_type": "markdown",
   "metadata": {
    "nbgrader": {
     "grade": false,
     "grade_id": "cell-a9d68fa708ec547a",
     "locked": true,
     "schema_version": 1,
     "solution": false
    }
   },
   "source": [
    "- Your code for producing the flag:"
   ]
  },
  {
   "cell_type": "code",
   "execution_count": null,
   "metadata": {
    "collapsed": false,
    "nbgrader": {
     "grade": false,
     "grade_id": "flag",
     "locked": false,
     "schema_version": 1,
     "solution": true
    }
   },
   "outputs": [],
   "source": [
    "### BEGIN SOLUTION\n",
    "star = '*'\n",
    "flag = \"\"\n",
    "line = '-'\n",
    "\n",
    "for i in range(5):\n",
    "    # For the first three lines add asterix and lines\n",
    "    if i < 3:\n",
    "        for j in range(7):\n",
    "            flag+= star\n",
    "            \n",
    "        for k in range(12):\n",
    "            flag+=line\n",
    "    # For the last two lines add only lines\n",
    "    else:\n",
    "        for k in range(19):\n",
    "            flag+=line\n",
    "    flag += '\\n'\n",
    "### END SOLUTION"
   ]
  },
  {
   "cell_type": "code",
   "execution_count": null,
   "metadata": {
    "collapsed": false,
    "nbgrader": {
     "grade": true,
     "grade_id": "flag-test",
     "locked": true,
     "points": 0,
     "schema_version": 1,
     "solution": false
    }
   },
   "outputs": [],
   "source": [
    "print(flag)\n",
    "### BEGIN HIDDEN TESTS\n",
    "from nose.tools import assert_equal\n",
    "correct_shape = '*******------------\\n*******------------\\n*******------------\\n-------------------\\n-------------------\\n'\n",
    "assert_equal(flag, correct_shape)\n",
    "### END HIDDEN TESTS"
   ]
  }
 ],
 "metadata": {
  "celltoolbar": "Create Assignment",
  "kernelspec": {
   "display_name": "Python 3",
   "language": "python",
   "name": "python3"
  },
  "language_info": {
   "codemirror_mode": {
    "name": "ipython",
    "version": 3
   },
   "file_extension": ".py",
   "mimetype": "text/x-python",
   "name": "python",
   "nbconvert_exporter": "python",
   "pygments_lexer": "ipython3",
   "version": "3.6.0"
  }
 },
 "nbformat": 4,
 "nbformat_minor": 2
}
