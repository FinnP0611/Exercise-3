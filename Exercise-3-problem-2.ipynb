{
 "cells": [
  {
   "cell_type": "markdown",
   "metadata": {},
   "source": [
    "## Problem 2 - Classifying temperatures (**8 points**)\n",
    "\n",
    "### Overview\n",
    "\n",
    "This problem is meant to introduce you to a very commonly used and useful concept of data classification.\n",
    "In this problem your aim is to classify daily temperatures stored in `temperatures` list into four different classes:\n",
    "\n",
    "  1. **Cold** ==> temperatures below -2 degrees (Celsius)\n",
    "  2. **Slippery** ==> temperatures warmer or equal to -2 degrees and up to +2 degrees (Celsius)\n",
    "  3. **Comfortable** ==> temperatures warmer or equal to +2 degrees and up to +15 degrees (Celsius)\n",
    "  4. **Warm** ==> temperatures warmer or equal to +15 degrees (Celsius)\n",
    "\n",
    "To solve this problem, you should modify and fill in the missing parts in the following cells.\n",
    "In total, there are three tasks that you should solve according the directions. In addition, there is\n",
    "one additional task (Task 4) that is **optional** for the students that are quicker (*does not affect grading*).\n",
    "\n",
    "**Notice**: follow closely the instructions, e.g. using **exactly** the same variable names as mentioned in the instructions because your answers will be automatically graded, and the tests that grade your answers rely on following the same formatting as in the instructions. \n",
    "\n",
    "**Your score on this problem will be based on following criteria:**\n",
    "\n",
    " - Using for loop to iterate over the temperature values\n",
    " - Using conditional statements to find out if a value is within certain value range\n",
    " - Printing information for the user\n",
    " - Including comments that explain what most lines in the code do\n",
    " - Uploading your Notebook to your GitHub repository for this week's Exercise."
   ]
  },
  {
   "cell_type": "markdown",
   "metadata": {
    "nbgrader": {
     "grade": false,
     "grade_id": "cell-ea6af1904d783269",
     "locked": true,
     "schema_version": 1,
     "solution": false
    }
   },
   "source": [
    "### Data"
   ]
  },
  {
   "cell_type": "code",
   "execution_count": null,
   "metadata": {
    "collapsed": true,
    "nbgrader": {
     "grade": false,
     "grade_id": "cell-ecd9721955db9637",
     "locked": true,
     "schema_version": 1,
     "solution": false
    }
   },
   "outputs": [],
   "source": [
    "# A list of night-time, day-time and evening temperatures for April 2013 measured in Helsinki Malmi Airport. \n",
    "# The list contains 90 values since there are 3 values for each day (April has 30 days).\n",
    "# The first value of a single day represents night, the second one day-time, and the third one evening temperature.\n",
    "\n",
    "temperatures = [-5.4, 1.0, -1.3, -4.8, 3.9, 0.1, -4.4, 4.0, -2.2, -3.9, 4.4,\n",
    "                -2.5, -4.6, 5.1, 2.1, -2.4, 1.9, -3.3, -4.8, 1.0, -0.8, -2.8,\n",
    "                -0.1, -4.7, -5.6, 2.6, -2.7, -4.6, 3.4, -0.4, -0.9, 3.1, 2.4,\n",
    "                1.6, 4.2, 3.5, 2.6, 3.1, 2.2, 1.8, 3.3, 1.6, 1.5, 4.7, 4.0,\n",
    "                3.6, 4.9, 4.8, 5.3, 5.6, 4.1, 3.7, 7.6, 6.9, 5.1, 6.4, 3.8,\n",
    "                4.0, 8.6, 4.1, 1.4, 8.9, 3.0, 1.6, 8.5, 4.7, 6.6, 8.1, 4.5,\n",
    "                4.8, 11.3, 4.7, 5.2, 11.5, 6.2, 2.9, 4.3, 2.8, 2.8, 6.3, 2.6,\n",
    "                -0.0, 7.3, 3.4, 4.7, 9.3, 6.4, 5.4, 7.6, 5.2]"
   ]
  },
  {
   "cell_type": "markdown",
   "metadata": {
    "nbgrader": {
     "grade": false,
     "grade_id": "cell-762b7d4f3ec9210d",
     "locked": true,
     "schema_version": 1,
     "solution": false
    }
   },
   "source": [
    "1: Create four empty lists for different temperature classes, i.e.:\n",
    "\n",
    "  - `cold`\n",
    "  - `slippery`\n",
    "  - `comfortable`\n",
    "  - `warm`\n",
    "  \n",
    "Be careful to use **exactly** these names for your lists."
   ]
  },
  {
   "cell_type": "code",
   "execution_count": null,
   "metadata": {
    "collapsed": true,
    "nbgrader": {
     "grade": false,
     "grade_id": "temp-lists",
     "locked": false,
     "schema_version": 1,
     "solution": true
    }
   },
   "outputs": [],
   "source": [
    "### BEGIN SOLUTION\n",
    "cold = []\n",
    "slippery = []\n",
    "comfortable = []\n",
    "warm = []\n",
    "### END SOLUTION"
   ]
  },
  {
   "cell_type": "code",
   "execution_count": null,
   "metadata": {
    "collapsed": true,
    "nbgrader": {
     "grade": true,
     "grade_id": "temp-lists-tests",
     "locked": true,
     "points": 0.5,
     "schema_version": 1,
     "solution": false
    }
   },
   "outputs": [],
   "source": [
    "# Test print for all lists (they should be empty at this point)\n",
    "print(cold, slippery, comfortable, warm)\n",
    "\n",
    "### BEGIN HIDDEN TESTS\n",
    "from nose.tools import ok_\n",
    "\n",
    "# Check that variables exists\n",
    "ok_('cold' in locals())\n",
    "ok_('slippery' in locals())\n",
    "ok_('comfortable' in locals())\n",
    "ok_('warm' in locals())\n",
    "\n",
    "### END HIDDEN TESTS"
   ]
  },
  {
   "cell_type": "markdown",
   "metadata": {
    "nbgrader": {
     "grade": false,
     "grade_id": "cell-15c382eeab374716",
     "locked": true,
     "schema_version": 1,
     "solution": false
    }
   },
   "source": [
    "2: Iterate over temperatures and add temperatures to different temperature classes as defined below (*5.5 points*):\n",
    "  - **Cold** ==> temperatures below -2 degrees (Celsius)\n",
    "  - **Slippery** ==> temperatures warmer or equal to -2 degrees and up to +2 degrees (Celsius)\n",
    "  - **Comfortable** ==> temperatures warmer of equal to +2 degrees and up to +15 degrees (Celsius)\n",
    "  - **Warm** ==> temperatures above or equal to +15 degrees (Celsius)"
   ]
  },
  {
   "cell_type": "code",
   "execution_count": null,
   "metadata": {
    "collapsed": true,
    "nbgrader": {
     "grade": false,
     "grade_id": "temp-classes",
     "locked": false,
     "schema_version": 1,
     "solution": true
    }
   },
   "outputs": [],
   "source": [
    "### BEGIN SOLUTION\n",
    "# Iterate over values using for loop\n",
    "for temp in temperatures:\n",
    "    # Create conditions for different temperature ranges\n",
    "    if temp < -2:\n",
    "        # Add to list\n",
    "        cold.append(temp)\n",
    "    elif temp >= -2 and temp < 2:\n",
    "        slippery.append(temp)\n",
    "    elif temp >= 2 and temp < 15:\n",
    "        comfortable.append(temp)\n",
    "    elif temp >= 15:\n",
    "        warm.append(temp)\n",
    "### END SOLUTION"
   ]
  },
  {
   "cell_type": "code",
   "execution_count": null,
   "metadata": {
    "collapsed": true,
    "nbgrader": {
     "grade": true,
     "grade_id": "temp-classes-tests",
     "locked": true,
     "points": 5.5,
     "schema_version": 1,
     "solution": false
    }
   },
   "outputs": [],
   "source": [
    "# Test prints for all lists (now they should contain values)\n",
    "print(cold, slippery, comfortable, warm)\n",
    "\n",
    "### BEGIN HIDDEN TESTS\n",
    "from nose.tools import assert_equal\n",
    "correct_cold = [-5.4, -4.8, -4.4, -2.2, -3.9, -2.5, -4.6, -2.4, -3.3, -4.8, -2.8, -4.7, -5.6, -2.7, -4.6]\n",
    "correct_slippery = [1.0, -1.3, 0.1, 1.9, 1.0, -0.8, -0.1, -0.4, -0.9, 1.6, 1.8, 1.6, 1.5, 1.4, 1.6, -0.0]\n",
    "correct_comfortable = [3.9, 4.0, 4.4, 5.1, 2.1, 2.6, 3.4, 3.1, 2.4, 4.2, 3.5, 2.6, 3.1, 2.2, 3.3, 4.7, 4.0, 3.6, 4.9, 4.8, 5.3, 5.6, 4.1, 3.7, 7.6, 6.9, 5.1, 6.4, 3.8, 4.0, 8.6, 4.1, 8.9, 3.0, 8.5, 4.7, 6.6, 8.1, 4.5, 4.8, 11.3, 4.7, 5.2, 11.5, 6.2, 2.9, 4.3, 2.8, 2.8, 6.3, 2.6, 7.3, 3.4, 4.7, 9.3, 6.4, 5.4, 7.6, 5.2]\n",
    "correct_warm = []\n",
    "\n",
    "# Test that values in temperature classes are correct\n",
    "assert_equal(cold, correct_cold)\n",
    "assert_equal(slippery, correct_slippery)\n",
    "assert_equal(comfortable, correct_comfortable)\n",
    "assert_equal(warm, correct_warm)\n",
    "\n",
    "### END HIDDEN TESTS\n"
   ]
  },
  {
   "cell_type": "markdown",
   "metadata": {
    "nbgrader": {
     "grade": false,
     "grade_id": "cell-1126e21066f72de8",
     "locked": true,
     "schema_version": 1,
     "solution": false
    }
   },
   "source": [
    "3: Questions - print the answers (*1 point*)\n",
    "\n",
    "- How many times was it slippery during the study period?"
   ]
  },
  {
   "cell_type": "code",
   "execution_count": null,
   "metadata": {
    "collapsed": true,
    "nbgrader": {
     "grade": false,
     "grade_id": "slippery-times",
     "locked": false,
     "schema_version": 1,
     "solution": true
    }
   },
   "outputs": [],
   "source": [
    "# Edit the variable to find correct answer\n",
    "slippery_times = 'XXX'\n",
    "\n",
    "### BEGIN SOLUTION\n",
    "slippery_times = len(slippery)\n",
    "### END SOLUTION"
   ]
  },
  {
   "cell_type": "code",
   "execution_count": null,
   "metadata": {
    "collapsed": true,
    "nbgrader": {
     "grade": true,
     "grade_id": "slippery-times-test",
     "locked": true,
     "points": 0.33,
     "schema_version": 1,
     "solution": false
    }
   },
   "outputs": [],
   "source": [
    "# Print the answer\n",
    "print(\"In April 2013 it was slippery\", slippery_times, \"times.\")\n",
    "\n",
    "### BEGIN HIDDEN TESTS\n",
    "from nose.tools import assert_equal\n",
    "# It was slippery 16 times\n",
    "assert_equal(slippery_times, 16)\n",
    "\n",
    "### END HIDDEN TESTS"
   ]
  },
  {
   "cell_type": "markdown",
   "metadata": {
    "nbgrader": {
     "grade": false,
     "grade_id": "cell-373794962a4894e5",
     "locked": true,
     "schema_version": 1,
     "solution": false
    }
   },
   "source": [
    "\n",
    "- How many times was it warm during the study period?"
   ]
  },
  {
   "cell_type": "code",
   "execution_count": null,
   "metadata": {
    "collapsed": true,
    "nbgrader": {
     "grade": false,
     "grade_id": "warm-times",
     "locked": false,
     "schema_version": 1,
     "solution": true
    }
   },
   "outputs": [],
   "source": [
    "# Edit the variable to find correct answer\n",
    "warm_times = 'XXX'\n",
    "\n",
    "### BEGIN SOLUTION\n",
    "warm_times = len(warm)\n",
    "### END SOLUTION"
   ]
  },
  {
   "cell_type": "code",
   "execution_count": null,
   "metadata": {
    "collapsed": true,
    "nbgrader": {
     "grade": true,
     "grade_id": "warm-times-test",
     "locked": true,
     "points": 0.33,
     "schema_version": 1,
     "solution": false
    }
   },
   "outputs": [],
   "source": [
    "# Print the answer\n",
    "print(\"In April 2013 it was warm\", warm_times, \"times.\")\n",
    "\n",
    "### BEGIN HIDDEN TESTS\n",
    "from nose.tools import assert_equal\n",
    "# It was slippery 16 times\n",
    "assert_equal(warm_times, 0)\n",
    "\n",
    "### END HIDDEN TESTS"
   ]
  },
  {
   "cell_type": "markdown",
   "metadata": {
    "nbgrader": {
     "grade": false,
     "grade_id": "cell-b107b9404240484f",
     "locked": true,
     "schema_version": 1,
     "solution": false
    }
   },
   "source": [
    "- How many times was it cold during the study period?"
   ]
  },
  {
   "cell_type": "code",
   "execution_count": null,
   "metadata": {
    "collapsed": true,
    "nbgrader": {
     "grade": false,
     "grade_id": "cold-times",
     "locked": false,
     "schema_version": 1,
     "solution": true
    }
   },
   "outputs": [],
   "source": [
    "# Edit the variable to find correct answer\n",
    "cold_times = 'XXX'\n",
    "\n",
    "### BEGIN SOLUTION\n",
    "cold_times = len(cold)\n",
    "### END SOLUTION"
   ]
  },
  {
   "cell_type": "code",
   "execution_count": null,
   "metadata": {
    "collapsed": true,
    "nbgrader": {
     "grade": true,
     "grade_id": "cold-times-test",
     "locked": true,
     "points": 0.34,
     "schema_version": 1,
     "solution": false
    }
   },
   "outputs": [],
   "source": [
    "# Print the answer\n",
    "print(\"In April 2013 it was cold\", cold_times, \"times.\")\n",
    "\n",
    "### BEGIN HIDDEN TESTS\n",
    "from nose.tools import assert_equal\n",
    "# It was slippery 16 times\n",
    "assert_equal(cold_times, 15)\n",
    "\n",
    "### END HIDDEN TESTS"
   ]
  },
  {
   "cell_type": "markdown",
   "metadata": {
    "nbgrader": {
     "grade": false,
     "grade_id": "cell-5608b79175d15ce2",
     "locked": true,
     "schema_version": 1,
     "solution": false
    }
   },
   "source": [
    "### Comment section:\n",
    "\n",
    "Here, we ask a few questions to make sure you have understand the concepts etc. Answer shortly with a couple of sentences to following questions.\n",
    "\n",
    "You can also write any feedback or questions concerning this problem (we will also use this space for giving feedback to you, if necessary).\n",
    "\n",
    "#### Questions\n",
    "\n",
    "1: Is the concept of conditional statements clear to you? If not, what is difficult to understand?\n",
    "\n",
    "2: Did you include comments in your code blocks?\n",
    "  \n",
    "Write your answers below (double click to activate the cell below):"
   ]
  },
  {
   "cell_type": "markdown",
   "metadata": {
    "nbgrader": {
     "grade": true,
     "grade_id": "p2-style-assessment",
     "locked": false,
     "points": 1,
     "schema_version": 1,
     "solution": true
    }
   },
   "source": []
  },
  {
   "cell_type": "markdown",
   "metadata": {
    "nbgrader": {
     "grade": false,
     "grade_id": "cell-90b7b78e0445d159",
     "locked": true,
     "schema_version": 1,
     "solution": false
    }
   },
   "source": [
    "#### Done!\n",
    "\n",
    "That's it! Now you are ready to continue with [Problem 3](Exercise-3-problem-3.ipynb)."
   ]
  }
 ],
 "metadata": {
  "celltoolbar": "Create Assignment",
  "kernelspec": {
   "display_name": "Python 3",
   "language": "python",
   "name": "python3"
  },
  "language_info": {
   "codemirror_mode": {
    "name": "ipython",
    "version": 3
   },
   "file_extension": ".py",
   "mimetype": "text/x-python",
   "name": "python",
   "nbconvert_exporter": "python",
   "pygments_lexer": "ipython3",
   "version": "3.6.0"
  }
 },
 "nbformat": 4,
 "nbformat_minor": 2
}
