{
 "cells": [
  {
   "cell_type": "markdown",
   "metadata": {
    "nbgrader": {
     "grade": false,
     "grade_id": "cell-5c68af490e1d2129",
     "locked": true,
     "schema_version": 1,
     "solution": false
    }
   },
   "source": [
    "## Problem 3 - Allocating locations (*8 points*)\n",
    "\n",
    "\n",
    "### Overview \n",
    "Following map shows the locations of the weather stations (as blue points) in Finland that are more than 70 years old [1].\n",
    "In this problem we are interested to find out whether the station network was equally distributed across Finland\n",
    "seventy years ago. We have divided Finland into four geographical zones (i.e. North West, North East, South West, South East)\n",
    "according the approximate center point of Finnish mainland located at `26.3, 64.5` (lon-lat in decimal degrees).\n",
    "\n",
    "![](img/FMI_stations_70_years_older.png)\n",
    "\n",
    "[1]: The locations and the age of weather stations were obtained from: http://en.ilmatieteenlaitos.fi/observation-stations\n",
    "\n",
    "Below, we have given you the coordinates of 34 weather stations.\n",
    "The location of a single station is determined with a pair of latitude and longitude coordinates.\n",
    "The coordinates of all the stations are separated into two lists (`lat` and `lon`) and the names of the stations are in `stations` list. From these lists, you would get e.g. the location of the first station by combining the latitude and longitude coordinates from coordinate lists, and the name of that station from `stations` list at index[0]:\n",
    "\n",
    "### Problem statement\n",
    "\n",
    "In this problem your job is to print the names of weather stations located in different zones. **Optionally** you should also report the share of weather stations that allocated to each zone that could be used to evaluate if certain zone was over/under-represented seventy years ago (optional task, does not affect on grading).\n",
    "\n",
    "To solve this problem, you should modify and fill in the missing parts in the code cells below.\n",
    "\n",
    "**Notice**: follow closely the instructions, e.g. using **exactly** the same variable names as mentioned in the instructions because your answers will be automatically graded, and the tests that grade your answers rely on following the same formatting as in the instructions. \n",
    "\n",
    "\n",
    "**Your score on this problem will be based on following criteria:**\n",
    "\n",
    " 1. Create four lists for geographical zones in Finland (i.e. `nort_west`, `north_east`, `south_west`, `south_east`)\n",
    " 2. Iterate over values and determine to which geographical zone the station belongs\n",
    "    1. Hint: You should create a loop that iterates `N` -number of times. Create a variable *`N`* that should contain the number of stations we have here.\n",
    "    2. You should use a conditional statement to find out if the latitude coordinate of a station is either North or South of the center point of Finland (`26.3, 64.5`) **AND** if the longitude location is West or East from that center point.\n",
    "    3. You should insert the name of the station into the correct geographical zone list (step 1)\n",
    " 3. Print out the names of stations at each geographical zone\n",
    " 4. **Optional:** Calculate and print the share of stations at each zone (the total number of stations equals to 100 %)"
   ]
  },
  {
   "cell_type": "markdown",
   "metadata": {
    "nbgrader": {
     "grade": false,
     "grade_id": "cell-5c0a48bd858489b8",
     "locked": true,
     "schema_version": 1,
     "solution": false
    }
   },
   "source": [
    "### Data\n",
    "\n",
    "Here, we provide you the data you should use to solve the problem 3 (run the cell to get values into the memory of your computer):"
   ]
  },
  {
   "cell_type": "code",
   "execution_count": null,
   "metadata": {
    "collapsed": true,
    "nbgrader": {
     "grade": false,
     "grade_id": "cell-888d0ee752aed9d0",
     "locked": true,
     "schema_version": 1,
     "solution": false
    }
   },
   "outputs": [],
   "source": [
    "# Station names\n",
    "stations = ['Hanko Russarö', 'Heinola Asemantaus', 'Helsinki Kaisaniemi', \n",
    "            'Helsinki Malmi airfield', 'Hyvinkää Hyvinkäänkylä', 'Joutsa Savenaho', \n",
    "            'Juuka Niemelä', 'Jyväskylä airport', 'Kaarina Yltöinen', 'Kauhava airfield', \n",
    "            'Kemi Kemi-Tornio airport', 'Kotka Rankki', 'Kouvola Anjala', \n",
    "            'Kouvola Utti airport', 'Kuopio Maaninka', 'Kuusamo airport', \n",
    "            'Lieksa Lampela', 'Mustasaari Valassaaret', 'Parainen Utö', 'Pori airport', \n",
    "            'Rovaniemi Apukka', 'Salo Kärkkä', 'Savonlinna Punkaharju Laukansaari', \n",
    "            'Seinäjoki Pelmaa', 'Siikajoki Ruukki', 'Siilinjärvi Kuopio airport', \n",
    "            'Tohmajärvi Kemie', 'Utsjoki Nuorgam', 'Vaala Pelso', 'Vaasa airport', \n",
    "            'Vesanto Sonkari', 'Vieremä Kaarakkala', 'Vihti Maasoja', 'Ylitornio Meltosjärvi']\n",
    "\n",
    "# Latitude coordinates of Weather stations  \n",
    "lats = [59.77, 61.2, 60.18, 60.25, 60.6, 61.88, 63.23, 62.4,\n",
    "       60.39, 63.12, 65.78, 60.38, 60.7, 60.9, 63.14, 65.99,\n",
    "       63.32, 63.44, 59.78, 61.47, 66.58, 60.37, 61.8, 62.94,\n",
    "       64.68, 63.01, 62.24, 70.08, 64.5, 63.06, 62.92, 63.84,\n",
    "       60.42, 66.53]\n",
    "\n",
    "# Longitude coordinates of Weather stations \n",
    "lons = [22.95, 26.05, 24.94, 25.05, 24.8, 26.09, 29.23, 25.67, \n",
    "       22.55, 23.04, 24.58, 26.96, 26.81, 26.95, 27.31, 29.23, \n",
    "       30.05, 21.07, 21.37, 21.79, 26.01, 23.11, 29.32, 22.49, \n",
    "       25.09, 27.8, 30.35, 27.9, 26.42, 21.75, 26.42, 27.22, \n",
    "       24.4, 24.65]\n",
    "\n",
    "# Cutoff values that correspond to the centroid of Finnish mainland\n",
    "# North - South\n",
    "north_south_cutoff = 64.5\n",
    "\n",
    "# East-West\n",
    "east_west_cutoff = 26.3"
   ]
  },
  {
   "cell_type": "markdown",
   "metadata": {},
   "source": [
    "- Create four empty lists for geographical zones in Finland, use **exactly** following variable names (**0.5 points**)\n",
    "   - `north_west`\n",
    "   - `north_east`\n",
    "   - `south_west`\n",
    "   - `south_east`"
   ]
  },
  {
   "cell_type": "code",
   "execution_count": null,
   "metadata": {
    "collapsed": true,
    "nbgrader": {
     "grade": false,
     "grade_id": "geo-zones",
     "locked": false,
     "schema_version": 1,
     "solution": true
    }
   },
   "outputs": [],
   "source": [
    "### BEGIN SOLUTION\n",
    "# Empty lists for stations located at different geographical zones\n",
    "north_west = []\n",
    "north_east = []\n",
    "south_west = []\n",
    "south_east = []\n",
    "### END SOLUTION"
   ]
  },
  {
   "cell_type": "code",
   "execution_count": null,
   "metadata": {
    "collapsed": true,
    "nbgrader": {
     "grade": true,
     "grade_id": "geo-zones-test",
     "locked": true,
     "points": 0.5,
     "schema_version": 1,
     "solution": false
    }
   },
   "outputs": [],
   "source": [
    "# This test print should work\n",
    "print(north_west, south_west)\n",
    "\n",
    "### BEGIN HIDDEN TESTS\n",
    "from nose.tools import ok_\n",
    "# Test that variables exist\n",
    "ok_(\"north_west\" in locals())\n",
    "ok_(\"north_east\" in locals())\n",
    "ok_(\"south_west\" in locals())\n",
    "ok_(\"south_east\" in locals())\n",
    "\n",
    "# Test that they are lists\n",
    "ok_(isinstance(north_west, list) )\n",
    "ok_(isinstance(north_east, list) )\n",
    "ok_(isinstance(south_west, list) )\n",
    "ok_(isinstance(south_east, list) )\n",
    "\n",
    "# Test that they are empty\n",
    "ok_(len(north_west) == 0 )\n",
    "ok_(len(north_east) == 0 )\n",
    "ok_(len(south_west) == 0 )\n",
    "ok_(len(south_east) == 0 )\n",
    "\n",
    "### END HIDDEN TESTS"
   ]
  },
  {
   "cell_type": "markdown",
   "metadata": {
    "nbgrader": {
     "grade": false,
     "grade_id": "cell-8fbea85320420b00",
     "locked": true,
     "schema_version": 1,
     "solution": false
    }
   },
   "source": [
    "**Step 1**: Count the number of stations and store that value in variable: *`N`* (*0.5 points*)"
   ]
  },
  {
   "cell_type": "code",
   "execution_count": null,
   "metadata": {
    "collapsed": true,
    "nbgrader": {
     "grade": false,
     "grade_id": "station_count",
     "locked": false,
     "schema_version": 1,
     "solution": true
    }
   },
   "outputs": [],
   "source": [
    "### BEGIN SOLUTION\n",
    "# Determine the number of stations that we have in total\n",
    "N = len(stations)\n",
    "### END SOLUTION"
   ]
  },
  {
   "cell_type": "code",
   "execution_count": null,
   "metadata": {
    "collapsed": true,
    "nbgrader": {
     "grade": true,
     "grade_id": "station_count_test",
     "locked": true,
     "points": 0.5,
     "schema_version": 1,
     "solution": false
    }
   },
   "outputs": [],
   "source": [
    "# How many stations do we have?\n",
    "print(\"In the data, there are\", N, \"stations.\")\n",
    "\n",
    "### BEGIN HIDDEN TESTS\n",
    "from nose.tools import assert_equal\n",
    "assert_equal(N, 34)\n",
    "### END HIDDEN TESTS"
   ]
  },
  {
   "cell_type": "markdown",
   "metadata": {
    "nbgrader": {
     "grade": false,
     "grade_id": "cell-86baf64c3b574d9a",
     "locked": true,
     "schema_version": 1,
     "solution": false
    }
   },
   "source": [
    "**Step 2**: Make a loop that iterates N number of times, and allocates stations to different geographical zones based on the coordinates. "
   ]
  },
  {
   "cell_type": "code",
   "execution_count": null,
   "metadata": {
    "collapsed": false,
    "nbgrader": {
     "grade": false,
     "grade_id": "allocate_stations",
     "locked": false,
     "schema_version": 1,
     "solution": true
    }
   },
   "outputs": [],
   "source": [
    "### BEGIN SOLUTION\n",
    "\n",
    "# Step 2. Make a loop that iterates N number of times. \n",
    "# N should be based on the number of stations that we have here. \n",
    "# --------------------------------------------------------------\n",
    "\n",
    "# Create a for loop that runs N number of times\n",
    "for i in range(N):\n",
    "    \n",
    "    # Step 2.1 Find out the latitude, longitude and the name of the station at index i\n",
    "    lat = lats[i]\n",
    "    lon = lons[i]\n",
    "    station = stations[i]\n",
    "    \n",
    "    # Steps 2.2-2.3 - Make conditional statements to add the station to correct zone -list\n",
    "    # You should determine if \n",
    "    # a) the lat coordinate is North or South of the center latitude (stored in NScutoff variable)\n",
    "    # AND \n",
    "    # b) if the lon coordinate is East or West of the center longitude (stored in EWcutoff variable)\n",
    "    # c) Based on the criteria you should add the NAME of the station (from stations -list) to correct list (done in step 1)\n",
    "    \n",
    "    # Make conditional statements to allocate the stations to correct zones\n",
    "    \n",
    "    # Check if the station is South from central point\n",
    "    if lat <= north_south_cutoff:\n",
    "        # Check if the station is in West\n",
    "        if lon <= east_west_cutoff:\n",
    "            # If it was South-West add the station name to corresponding list    \n",
    "            south_west.append(station)\n",
    "        else:\n",
    "            # If it was not, it must be located in the South-East part of Finland\n",
    "            south_east.append(station)\n",
    "    # Otherwise the station must be North (hence we can use else)\n",
    "    else:\n",
    "        # Check if the station is in West\n",
    "        if lon <= east_west_cutoff:\n",
    "            # If it was West, add the station name to North-West list    \n",
    "            north_west.append(station)\n",
    "        else:\n",
    "            # If it was not, it must be located in the North-East part of Finland\n",
    "            north_east.append(station)\n",
    "            \n",
    "### END SOLUTION"
   ]
  },
  {
   "cell_type": "markdown",
   "metadata": {
    "nbgrader": {
     "grade": false,
     "grade_id": "cell-f448b8ec4ea497ba",
     "locked": true,
     "schema_version": 1,
     "solution": false
    }
   },
   "source": [
    "**Step 3:** In the following cells, you should print out the correct names for each geographical zone. (*1.5 points each - total: 6 points*)\n",
    "    \n",
    "   - We have given you the correct number of stations as a hint for each zone, so it is easier for you to know whether you have correct answer. "
   ]
  },
  {
   "cell_type": "code",
   "execution_count": null,
   "metadata": {
    "collapsed": true,
    "nbgrader": {
     "grade": true,
     "grade_id": "allocate_stations_test_nw",
     "locked": true,
     "points": 1.5,
     "schema_version": 1,
     "solution": false
    }
   },
   "outputs": [],
   "source": [
    "# This test print should print out station names in North West\n",
    "# Hint: there should be 4 stations in this class\n",
    "print(\"The names of the North-West stations are:\\n\", north_west)\n",
    "\n",
    "### BEGIN HIDDEN TESTS\n",
    "from nose.tools import assert_equal\n",
    "\n",
    "# Correctly allocated stations\n",
    "nw_correct = ['Kemi Kemi-Tornio airport', 'Rovaniemi Apukka', 'Siikajoki Ruukki', 'Ylitornio Meltosjärvi']\n",
    "\n",
    "# Test the results\n",
    "assert_equal(north_west, nw_correct)\n",
    "\n",
    "### END HIDDEN TESTS"
   ]
  },
  {
   "cell_type": "code",
   "execution_count": null,
   "metadata": {
    "collapsed": true,
    "nbgrader": {
     "grade": true,
     "grade_id": "allocate_stations_test_ne",
     "locked": true,
     "points": 1.5,
     "schema_version": 1,
     "solution": false
    }
   },
   "outputs": [],
   "source": [
    "# This test print should print out station names in North Eest\n",
    "# Hint: there should be 2 stations in this class\n",
    "print(\"The names of the North-East stations are:\\n\", north_east)\n",
    "\n",
    "### BEGIN HIDDEN TESTS\n",
    "from nose.tools import assert_equal\n",
    "\n",
    "# Correctly allocated stations\n",
    "ne_correct = ['Kuusamo airport', 'Utsjoki Nuorgam']\n",
    "\n",
    "# Test the results\n",
    "assert_equal(north_east, ne_correct)\n",
    "\n",
    "### END HIDDEN TESTS"
   ]
  },
  {
   "cell_type": "code",
   "execution_count": null,
   "metadata": {
    "collapsed": true,
    "nbgrader": {
     "grade": true,
     "grade_id": "allocate_stations_test_sw",
     "locked": true,
     "points": 1.5,
     "schema_version": 1,
     "solution": false
    }
   },
   "outputs": [],
   "source": [
    "# This test print should print out station names in South West\n",
    "# Hint: there should be 16 stations in this class\n",
    "print(\"The names of the South-West stations are:\\n\", south_west)\n",
    "\n",
    "### BEGIN HIDDEN TESTS\n",
    "from nose.tools import assert_equal\n",
    "\n",
    "# Correctly allocated stations\n",
    "sw_correct = ['Hanko Russarö', 'Heinola Asemantaus', 'Helsinki Kaisaniemi', 'Helsinki Malmi airfield', 'Hyvinkää Hyvinkäänkylä', 'Joutsa Savenaho', 'Jyväskylä airport', 'Kaarina Yltöinen', 'Kauhava airfield', 'Mustasaari Valassaaret', 'Parainen Utö', 'Pori airport', 'Salo Kärkkä', 'Seinäjoki Pelmaa', 'Vaasa airport', 'Vihti Maasoja']\n",
    "\n",
    "# Test the results\n",
    "assert_equal(south_west, sw_correct)\n",
    "\n",
    "### END HIDDEN TESTS"
   ]
  },
  {
   "cell_type": "code",
   "execution_count": null,
   "metadata": {
    "collapsed": true,
    "nbgrader": {
     "grade": true,
     "grade_id": "allocate_stations_test_se",
     "locked": true,
     "points": 1.5,
     "schema_version": 1,
     "solution": false
    }
   },
   "outputs": [],
   "source": [
    "# This test print should print out station names in South East\n",
    "# Hint: there should be 12 stations in this class\n",
    "print(\"The names of the South-East stations are:\\n\", south_east)\n",
    "\n",
    "### BEGIN HIDDEN TESTS\n",
    "from nose.tools import assert_equal\n",
    "\n",
    "# Correctly allocated stations\n",
    "se_correct = ['Juuka Niemelä', 'Kotka Rankki', 'Kouvola Anjala', 'Kouvola Utti airport', 'Kuopio Maaninka', 'Lieksa Lampela', 'Savonlinna Punkaharju Laukansaari', 'Siilinjärvi Kuopio airport', 'Tohmajärvi Kemie', 'Vaala Pelso', 'Vesanto Sonkari', 'Vieremä Kaarakkala']\n",
    "assert_equal(south_east, se_correct)\n",
    "\n",
    "### END HIDDEN TESTS"
   ]
  },
  {
   "cell_type": "markdown",
   "metadata": {
    "nbgrader": {
     "grade": false,
     "grade_id": "cell-76781d52bc8f568f",
     "locked": true,
     "schema_version": 1,
     "solution": false
    }
   },
   "source": [
    "### Comment section:\n",
    "\n",
    "Here, we ask a few questions to make sure you have understand the concepts etc. Answer shortly with a couple of sentences to following questions.\n",
    "\n",
    "\n",
    "You can also write any feedback or questions concerning this problem (we will also use this space for giving feedback to you, if necessary).\n",
    "\n",
    "#### Questions\n",
    "\n",
    "1: Is the concept of using **AND** operator and the difference between **if - elif - else** conditional statements clear to you? If not, what is difficult to understand?\n",
    "\n",
    "2: Did you include comments in your code blocks?\n",
    "\n",
    "Write your answers below (double click to activate the cell below):"
   ]
  },
  {
   "cell_type": "markdown",
   "metadata": {
    "collapsed": true,
    "nbgrader": {
     "grade": true,
     "grade_id": "p3-style-assessment",
     "locked": false,
     "points": 1,
     "schema_version": 1,
     "solution": true
    }
   },
   "source": []
  },
  {
   "cell_type": "markdown",
   "metadata": {
    "nbgrader": {
     "grade": false,
     "grade_id": "cell-d4b559885f7f59c2",
     "locked": true,
     "schema_version": 1,
     "solution": false
    }
   },
   "source": [
    "**Step 4 (optional)**: Print the share of stations at each geographical zone (in percentages) (*does not affect grading*)\n",
    "\n",
    " - Store the answers into variables:\n",
    "    - `north_west_share`\n",
    "    - `north_east_share`\n",
    "    - `south_west_share`\n",
    "    - `south_east_share`\n"
   ]
  },
  {
   "cell_type": "code",
   "execution_count": null,
   "metadata": {
    "collapsed": true,
    "nbgrader": {
     "grade": false,
     "grade_id": "station-percentage",
     "locked": false,
     "schema_version": 1,
     "solution": true
    }
   },
   "outputs": [],
   "source": [
    "### BEGIN SOLUTION\n",
    "\n",
    "# We can calculate the shares of each zone by dividing the number of stations\n",
    "# in each zone divided by the total number of stations (stored in variable N).\n",
    "# Multiplying by hundred gives the values in percentages (valuerange 0-100)\n",
    "north_west_share = (len(north_west) / N) * 100\n",
    "north_east_share = (len(north_east) / N) * 100\n",
    "south_west_share = (len(south_west) / N) * 100\n",
    "south_east_share = (len(south_east) / N) * 100\n",
    "\n",
    "### END SOLUTION"
   ]
  },
  {
   "cell_type": "markdown",
   "metadata": {
    "nbgrader": {
     "grade": false,
     "grade_id": "cell-0b1ab3acecf88dc2",
     "locked": true,
     "schema_version": 1,
     "solution": false
    }
   },
   "source": [
    "- Print the results following format: \"North-West contains 99 % of all stations.\" (this is an example not a correct answer)"
   ]
  },
  {
   "cell_type": "code",
   "execution_count": null,
   "metadata": {
    "collapsed": true,
    "nbgrader": {
     "grade": true,
     "grade_id": "station-percentage-tests",
     "locked": true,
     "points": 0,
     "schema_version": 1,
     "solution": false
    }
   },
   "outputs": [],
   "source": [
    "# Print the information (you don't need to modify this)\n",
    "# .format() is a Python function that can be used to easily insert values inside a text-template such as below.\n",
    "# .0f below is a specific operator that rounds the decimal values into whole numbers\n",
    "print(\"North-West contains{share: .0f} % of all stations.\".format(share=north_west_share))\n",
    "print(\"North-East contains{share: .0f} % of all stations.\".format(share=north_east_share))\n",
    "print(\"South-West contains{share: .0f} % of all stations.\".format(share=south_west_share))\n",
    "print(\"South-East contains{share: .0f} % of all stations.\".format(share=south_east_share))\n",
    "\n",
    "### BEGIN HIDDEN TESTS\n",
    "from nose.tools import ok_, assert_equal\n",
    "\n",
    "# Test if variables exist\n",
    "ok_('north_west_share' in locals())\n",
    "ok_('north_east_share' in locals())\n",
    "ok_('south_west_share' in locals())\n",
    "ok_('south_east_share' in locals())\n",
    "\n",
    "# Test correct values (here truncating values is enough to ensure correct values)\n",
    "assert_equal(int(north_west_share), 11)\n",
    "assert_equal(int(north_east_share), 5)\n",
    "assert_equal(int(south_west_share), 47)\n",
    "assert_equal(int(south_east_share), 35)\n",
    "### END HIDDEN TESTS"
   ]
  },
  {
   "cell_type": "markdown",
   "metadata": {
    "nbgrader": {
     "grade": false,
     "grade_id": "cell-3f9de2a687973d48",
     "locked": true,
     "schema_version": 1,
     "solution": false
    }
   },
   "source": [
    "#### Done!\n",
    "\n",
    "That's it! Now you have finished all the assignments for this week!\n",
    "\n",
    "If you want, you can still continue with optional [Problem 4](Exercise-3-problem-4.ipynb)."
   ]
  }
 ],
 "metadata": {
  "celltoolbar": "Create Assignment",
  "kernelspec": {
   "display_name": "Python 3",
   "language": "python",
   "name": "python3"
  },
  "language_info": {
   "codemirror_mode": {
    "name": "ipython",
    "version": 3
   },
   "file_extension": ".py",
   "mimetype": "text/x-python",
   "name": "python",
   "nbconvert_exporter": "python",
   "pygments_lexer": "ipython3",
   "version": "3.6.0"
  }
 },
 "nbformat": 4,
 "nbformat_minor": 2
}
