{
 "cells": [
  {
   "cell_type": "markdown",
   "metadata": {
    "nbgrader": {
     "grade": false,
     "grade_id": "cell-c2bc9538fc9e32a0",
     "locked": true,
     "schema_version": 1,
     "solution": false
    }
   },
   "source": [
    "## Before starting\n",
    "\n",
    "Test that your Python version is up-to-date. Our automatic grading system requires to have IPython version which is higher than 3. Test your version by running following cell (shift + Enter):"
   ]
  },
  {
   "cell_type": "code",
   "execution_count": null,
   "metadata": {
    "nbgrader": {
     "grade": false,
     "grade_id": "cell-350050080060ed44",
     "locked": true,
     "schema_version": 1,
     "solution": false
    }
   },
   "outputs": [],
   "source": [
    "import IPython\n",
    "assert IPython.version_info[0] >= 3, \"Your version of IPython is too old, please update it. Ask help, if you don't know how.\"\n",
    "print(\"Your system is okay, you can continue! :) \")"
   ]
  },
  {
   "cell_type": "markdown",
   "metadata": {
    "nbgrader": {
     "grade": false,
     "grade_id": "cell-348fe9af7be22c87",
     "locked": true,
     "schema_version": 1,
     "solution": false
    }
   },
   "source": [
    "## Problem 1 - Batch processing data files with a `for` loop (*4 points*)\n",
    "\n",
    "This problem is meant to simulate a common problem dealing with data files: batch processing.\n",
    "\n",
    "Batch processing involves using scripts to repeat a process with many data files, and one common task is generating a list of filenames that will be processed or saved to disk.\n",
    "\n",
    "For this problem you will need to modify the code blocks below and add code to produce the desired outcomes. \n",
    "\n",
    "**Notice**: Closely follow the instructions! For example, you should be sure to use **exactly** the same variable names mentioned in the instructions because your answers will be automatically graded, and the tests that grade your answers rely on following the same formatting or variable naming as in the instructions.\n",
    "\n",
    "**Your score on this problem will be based on following criteria:**\n",
    "\n",
    " - Creating and using variables to produce the desired text format\n",
    " - Successfully using a for loop to iterate over desired set of numbers\n",
    " - Successfully producing the desired filename(s)\n",
    " - Including comments that explain what most lines in the code do\n",
    " - Answering a couple questions at the end of the problem\n",
    " - Uploading your notebook to your GitHub repository for this week's exercise"
   ]
  },
  {
   "cell_type": "markdown",
   "metadata": {
    "nbgrader": {
     "grade": false,
     "grade_id": "cell-f9b41a4eab2aca48",
     "locked": true,
     "schema_version": 1,
     "solution": false
    }
   },
   "source": [
    "### Part 1 (*0.25 points*)\n",
    "\n",
    "- Create a new variable called `basename` that contains text `\"Station\"`."
   ]
  },
  {
   "cell_type": "code",
   "execution_count": 12,
   "metadata": {
    "nbgrader": {
     "grade": false,
     "grade_id": "station-name",
     "locked": false,
     "schema_version": 1,
     "solution": true
    }
   },
   "outputs": [],
   "source": [
    "### BEGIN SOLUTION\n",
    "basename = \"Station\"\n",
    "### END SOLUTION"
   ]
  },
  {
   "cell_type": "code",
   "execution_count": 13,
   "metadata": {
    "nbgrader": {
     "grade": true,
     "grade_id": "problem-1-station-name-test",
     "locked": true,
     "points": 0.25,
     "schema_version": 1,
     "solution": false
    }
   },
   "outputs": [
    {
     "name": "stdout",
     "output_type": "stream",
     "text": [
      "Station\n"
     ]
    }
   ],
   "source": [
    "# Test print of the variable\n",
    "print(basename)\n",
    "\n",
    "### BEGIN HIDDEN TESTS\n",
    "from nose.tools import ok_, assert_equal\n",
    "# Validate variable name\n",
    "ok_('basename' in locals())\n",
    "\n",
    "# Validate value\n",
    "assert_equal(basename, 'Station')\n",
    "### END HIDDEN TESTS"
   ]
  },
  {
   "cell_type": "markdown",
   "metadata": {
    "nbgrader": {
     "grade": false,
     "grade_id": "cell-90f13269de45ecdb",
     "locked": true,
     "schema_version": 1,
     "solution": false
    }
   },
   "source": [
    "### Part 2 (*0.25 points*)\n",
    "\n",
    "- Create a new variable `filenames` that is an empty list."
   ]
  },
  {
   "cell_type": "code",
   "execution_count": 40,
   "metadata": {
    "nbgrader": {
     "grade": false,
     "grade_id": "empty-filenames-list",
     "locked": false,
     "schema_version": 1,
     "solution": true
    }
   },
   "outputs": [],
   "source": [
    "### BEGIN SOLUTION\n",
    "filenames = []\n",
    "### END SOLUTION"
   ]
  },
  {
   "cell_type": "code",
   "execution_count": 27,
   "metadata": {
    "nbgrader": {
     "grade": true,
     "grade_id": "problem-1-empty-filenames-list-test",
     "locked": true,
     "points": 0.25,
     "schema_version": 1,
     "solution": false
    }
   },
   "outputs": [
    {
     "name": "stdout",
     "output_type": "stream",
     "text": [
      "[]\n"
     ]
    }
   ],
   "source": [
    "# Test print of the variable\n",
    "print(filenames)\n",
    "\n",
    "### BEGIN HIDDEN TESTS\n",
    "\n",
    "# DAVE NOTE: Should we also check that the list length is zero?\n",
    "\n",
    "from nose.tools import ok_\n",
    "ok_('filenames' in locals(), 'The variable \"filenames\" does not exist')\n",
    "ok_(isinstance(filenames, list), 'The variable \"filenames\" is not a list')\n",
    "ok_(len(filenames)==0, 'The list \"filenames\" is not empty')\n",
    "\n",
    "### END HIDDEN TESTS"
   ]
  },
  {
   "cell_type": "markdown",
   "metadata": {
    "nbgrader": {
     "grade": false,
     "grade_id": "cell-341524f278e72900",
     "locked": true,
     "schema_version": 1,
     "solution": false
    }
   },
   "source": [
    "### Part 3 (*2.5 points*)\n",
    "\n",
    "- Iterate over the number range 0-20 and\n",
    "    - Create a variable `station` that contains the 1) text from `basename` variable, 2) the number, and 3) the file extension `.txt`  \n",
    "    - Add the content of `station` to `filenames` list which should have following content in the end:\n",
    "\n",
    "      ```\n",
    "      ['Station_0.txt', 'Station_1.txt', 'Station_2.txt', 'Station_3.txt',\n",
    "       'Station_4.txt', 'Station_5.txt', 'Station_6.txt', 'Station_7.txt',\n",
    "       'Station_8.txt', 'Station_9.txt', 'Station_10.txt', 'Station_11.txt',\n",
    "       'Station_12.txt', 'Station_13.txt', 'Station_14.txt', 'Station_15.txt',\n",
    "       'Station_16.txt', 'Station_17.txt', 'Station_18.txt', 'Station_19.txt',\n",
    "       'Station_20.txt']\n",
    "      ```"
   ]
  },
  {
   "cell_type": "code",
   "execution_count": 41,
   "metadata": {
    "nbgrader": {
     "grade": false,
     "grade_id": "populate-filenames-list",
     "locked": false,
     "schema_version": 1,
     "solution": true
    }
   },
   "outputs": [
    {
     "name": "stdout",
     "output_type": "stream",
     "text": [
      "['Station_0.txt', 'Station_1.txt', 'Station_2.txt', 'Station_3.txt', 'Station_4.txt', 'Station_5.txt', 'Station_6.txt', 'Station_7.txt', 'Station_8.txt', 'Station_9.txt', 'Station_10.txt', 'Station_11.txt', 'Station_12.txt', 'Station_13.txt', 'Station_14.txt', 'Station_15.txt', 'Station_16.txt', 'Station_17.txt', 'Station_18.txt', 'Station_19.txt', 'Station_20.txt']\n"
     ]
    }
   ],
   "source": [
    "### BEGIN SOLUTION\n",
    "\n",
    "# Iterate from 0 up to 20\n",
    "for i in range(21):\n",
    "    # Create the name\n",
    "    station = basename + \"_\" + str(i) + \".txt\"\n",
    "    # Append to lis\n",
    "    filenames.append(station)\n",
    "\n",
    "# Print the contents\n",
    "print(filenames)\n",
    "    \n",
    "### END SOLUTION"
   ]
  },
  {
   "cell_type": "code",
   "execution_count": 42,
   "metadata": {
    "nbgrader": {
     "grade": true,
     "grade_id": "problem-1-populate-filenames-list-test1",
     "locked": true,
     "points": 0.5,
     "schema_version": 1,
     "solution": false
    }
   },
   "outputs": [
    {
     "name": "stdout",
     "output_type": "stream",
     "text": [
      "['Station_0.txt', 'Station_1.txt', 'Station_2.txt', 'Station_3.txt', 'Station_4.txt', 'Station_5.txt', 'Station_6.txt', 'Station_7.txt', 'Station_8.txt', 'Station_9.txt', 'Station_10.txt', 'Station_11.txt', 'Station_12.txt', 'Station_13.txt', 'Station_14.txt', 'Station_15.txt', 'Station_16.txt', 'Station_17.txt', 'Station_18.txt', 'Station_19.txt', 'Station_20.txt']\n"
     ]
    }
   ],
   "source": [
    "# Test print of the results\n",
    "print(filenames)\n",
    "\n",
    "### BEGIN HIDDEN TESTS\n",
    "from nose.tools import ok_, assert_equal\n",
    "\n",
    "# Check that 'station' variable exists\n",
    "ok_('station' in locals(), 'The variable \"station\" does not exist')\n",
    "\n",
    "### END HIDDEN TESTS"
   ]
  },
  {
   "cell_type": "code",
   "execution_count": null,
   "metadata": {
    "nbgrader": {
     "grade": true,
     "grade_id": "problem-1-populate-filenames-list-test2",
     "locked": true,
     "points": 0.5,
     "schema_version": 1,
     "solution": false
    }
   },
   "outputs": [],
   "source": [
    "from nose.tools import ok_, assert_equal\n",
    "# Check that the value of the last station is correct\n",
    "assert_equal(station.lower().strip(), \"station_20.txt\", 'The value of the last station is not correct')"
   ]
  },
  {
   "cell_type": "code",
   "execution_count": null,
   "metadata": {
    "nbgrader": {
     "grade": true,
     "grade_id": "problem-1-populate-filenames-list-test3",
     "locked": true,
     "points": 0.5,
     "schema_version": 1,
     "solution": false
    }
   },
   "outputs": [],
   "source": [
    "from nose.tools import ok_, assert_equal\n",
    "# Check that there exists 21 values in the list\n",
    "ok_(len(filenames) == 21, 'The length of the list \"filenames\" is not 21')"
   ]
  },
  {
   "cell_type": "code",
   "execution_count": null,
   "metadata": {
    "nbgrader": {
     "grade": true,
     "grade_id": "problem-1-populate-filenames-list-test4",
     "locked": true,
     "points": 1,
     "schema_version": 1,
     "solution": false
    }
   },
   "outputs": [],
   "source": [
    "# Check that the content of the list is correct\n",
    "### BEGIN HIDDEN TESTS\n",
    "from nose.tools import ok_, assert_equal\n",
    "\n",
    "correct_list = ['station_0.txt', 'station_1.txt', 'station_2.txt', 'station_3.txt', 'station_4.txt', 'station_5.txt', 'station_6.txt', 'station_7.txt', 'station_8.txt', 'station_9.txt', 'station_10.txt', 'station_11.txt', 'station_12.txt', 'station_13.txt', 'station_14.txt', 'station_15.txt', 'station_16.txt', 'station_17.txt', 'station_18.txt', 'station_19.txt', 'station_20.txt']\n",
    "\n",
    "# Check that the contents match (use lowercase to allow some variation in upper/lower case)\n",
    "for value in filenames:\n",
    "    ok_(value.strip().lower() in correct_list, value+' should not be in the list of filenames')\n",
    "\n",
    "### END HIDDEN TESTS"
   ]
  },
  {
   "cell_type": "markdown",
   "metadata": {
    "nbgrader": {
     "grade": false,
     "grade_id": "cell-8a96733ac5a7e13b",
     "locked": true,
     "schema_version": 1,
     "solution": false
    }
   },
   "source": [
    "### Part 4 (*1 point*)\n",
    "\n",
    "Here, we ask a few questions to make sure you have understand the concepts, etc. Answer shortly with a few sentences in the Markdown cell below.\n",
    "\n",
    "You can also write any feedback or questions concerning this problem in this Markdown cell.\n",
    "\n",
    "1. Is the concept of a loop clear to you? If not, what is difficult to understand?\n",
    "2. Did you include comments in your code blocks?\n",
    "  \n",
    "Write your answers below (double click to activate and edit the cell below)."
   ]
  },
  {
   "cell_type": "markdown",
   "metadata": {
    "nbgrader": {
     "grade": true,
     "grade_id": "problem-1-p1-style-assessment",
     "locked": false,
     "points": 1,
     "schema_version": 1,
     "solution": true
    }
   },
   "source": []
  },
  {
   "cell_type": "markdown",
   "metadata": {
    "nbgrader": {
     "grade": false,
     "grade_id": "cell-efadc431fa79d91b",
     "locked": true,
     "schema_version": 1,
     "solution": false
    }
   },
   "source": [
    "### Done!\n",
    "\n",
    "That's it! Now you are ready to continue with [Problem 2](Exercise-3-problem-2.ipynb)."
   ]
  }
 ],
 "metadata": {
  "anaconda-cloud": {},
  "celltoolbar": "Create Assignment",
  "kernelspec": {
   "display_name": "Python 3",
   "language": "python",
   "name": "python3"
  },
  "language_info": {
   "codemirror_mode": {
    "name": "ipython",
    "version": 3
   },
   "file_extension": ".py",
   "mimetype": "text/x-python",
   "name": "python",
   "nbconvert_exporter": "python",
   "pygments_lexer": "ipython3",
   "version": "3.7.3"
  }
 },
 "nbformat": 4,
 "nbformat_minor": 2
}
